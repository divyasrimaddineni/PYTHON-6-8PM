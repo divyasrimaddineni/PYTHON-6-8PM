{
 "cells": [
  {
   "cell_type": "code",
   "execution_count": null,
   "metadata": {},
   "outputs": [],
   "source": []
  },
  {
   "cell_type": "code",
   "execution_count": null,
   "metadata": {},
   "outputs": [],
   "source": []
  },
  {
   "cell_type": "code",
   "execution_count": null,
   "metadata": {},
   "outputs": [],
   "source": []
  },
  {
   "cell_type": "code",
   "execution_count": null,
   "metadata": {},
   "outputs": [],
   "source": []
  },
  {
   "cell_type": "code",
   "execution_count": null,
   "metadata": {},
   "outputs": [],
   "source": []
  },
  {
   "cell_type": "code",
   "execution_count": null,
   "metadata": {},
   "outputs": [],
   "source": []
  },
  {
   "cell_type": "code",
   "execution_count": null,
   "metadata": {},
   "outputs": [],
   "source": []
  },
  {
   "cell_type": "code",
   "execution_count": null,
   "metadata": {},
   "outputs": [],
   "source": []
  },
  {
   "cell_type": "code",
   "execution_count": null,
   "metadata": {},
   "outputs": [],
   "source": []
  },
  {
   "cell_type": "code",
   "execution_count": null,
   "metadata": {},
   "outputs": [],
   "source": []
  },
  {
   "cell_type": "code",
   "execution_count": null,
   "metadata": {},
   "outputs": [],
   "source": []
  },
  {
   "cell_type": "code",
   "execution_count": null,
   "metadata": {},
   "outputs": [],
   "source": []
  },
  {
   "cell_type": "code",
   "execution_count": null,
   "metadata": {},
   "outputs": [],
   "source": []
  },
  {
   "cell_type": "code",
   "execution_count": null,
   "metadata": {},
   "outputs": [],
   "source": []
  },
  {
   "cell_type": "markdown",
   "metadata": {},
   "source": [
    "# Concreate Class VS Abstract Class VS Interface Class"
   ]
  },
  {
   "cell_type": "code",
   "execution_count": null,
   "metadata": {},
   "outputs": [],
   "source": [
    "1. If we dont know anything about implementation just we have requirement specification then we should go for interface.\n",
    "2. If we are talking about implementation but not completely then we should go for Abstract class.\n",
    "    (Abstract class-> partially implemented class)\n",
    "3. If we are talking about implementation completely and ready to provide service then we should go for Concrete class.\n"
   ]
  },
  {
   "cell_type": "code",
   "execution_count": 1,
   "metadata": {},
   "outputs": [
    {
     "name": "stdout",
     "output_type": "stream",
     "text": [
      "m1 method implementation\n",
      "m2 method implementation\n",
      "m3 method implementation\n"
     ]
    }
   ],
   "source": [
    "#example pgm\n",
    "from abc import*\n",
    "class CollegeAutomation(ABC): #parent class\n",
    "    @abstractmethod\n",
    "    def m1(self):\n",
    "        pass\n",
    "    @abstractmethod\n",
    "    def m2(self):\n",
    "        pass\n",
    "    @abstractmethod\n",
    "    def m3(self):\n",
    "        pass\n",
    "class AbsCls(CollegeAutomation):\n",
    "    def m1(self):\n",
    "        print(\"m1 method implementation\")\n",
    "    def m2(self):\n",
    "        print(\"m2 method implementation\")\n",
    "class ConcreateCls(AbsCls):#childclass which has more priority than parentclass\n",
    "    def m3(self):\n",
    "        print(\"m3 method implementation\")\n",
    "\n",
    "c=ConcreateCls()\n",
    "c.m1()\n",
    "c.m2()\n",
    "c.m3()"
   ]
  },
  {
   "cell_type": "markdown",
   "metadata": {},
   "source": [
    "# Public, Protected and Private Attributes:"
   ]
  },
  {
   "cell_type": "code",
   "execution_count": 2,
   "metadata": {},
   "outputs": [
    {
     "ename": "NameError",
     "evalue": "name 'a' is not defined",
     "output_type": "error",
     "traceback": [
      "\u001b[1;31m---------------------------------------------------------------------------\u001b[0m",
      "\u001b[1;31mNameError\u001b[0m                                 Traceback (most recent call last)",
      "\u001b[1;32m<ipython-input-2-bca0e2660b9f>\u001b[0m in \u001b[0;36m<module>\u001b[1;34m\u001b[0m\n\u001b[1;32m----> 1\u001b[1;33m \u001b[0mprint\u001b[0m\u001b[1;33m(\u001b[0m\u001b[0ma\u001b[0m\u001b[1;33m)\u001b[0m\u001b[1;33m\u001b[0m\u001b[1;33m\u001b[0m\u001b[0m\n\u001b[0m",
      "\u001b[1;31mNameError\u001b[0m: name 'a' is not defined"
     ]
    }
   ],
   "source": [
    "print(a)"
   ]
  },
  {
   "cell_type": "code",
   "execution_count": 3,
   "metadata": {},
   "outputs": [
    {
     "ename": "AttributeError",
     "evalue": "'Test' object has no attribute 'm'",
     "output_type": "error",
     "traceback": [
      "\u001b[1;31m---------------------------------------------------------------------------\u001b[0m",
      "\u001b[1;31mAttributeError\u001b[0m                            Traceback (most recent call last)",
      "\u001b[1;32m<ipython-input-3-28edc74aa5a4>\u001b[0m in \u001b[0;36m<module>\u001b[1;34m\u001b[0m\n\u001b[0;32m      3\u001b[0m         \u001b[0mprint\u001b[0m\u001b[1;33m(\u001b[0m\u001b[1;34m\"Class\"\u001b[0m\u001b[1;33m)\u001b[0m\u001b[1;33m\u001b[0m\u001b[1;33m\u001b[0m\u001b[0m\n\u001b[0;32m      4\u001b[0m \u001b[0mt\u001b[0m\u001b[1;33m=\u001b[0m\u001b[0mTest\u001b[0m\u001b[1;33m(\u001b[0m\u001b[1;33m)\u001b[0m\u001b[1;33m\u001b[0m\u001b[1;33m\u001b[0m\u001b[0m\n\u001b[1;32m----> 5\u001b[1;33m \u001b[0mt\u001b[0m\u001b[1;33m.\u001b[0m\u001b[0mm\u001b[0m\u001b[1;33m(\u001b[0m\u001b[1;33m)\u001b[0m\u001b[1;33m\u001b[0m\u001b[1;33m\u001b[0m\u001b[0m\n\u001b[0m\u001b[0;32m      6\u001b[0m \u001b[0mprint\u001b[0m\u001b[1;33m(\u001b[0m\u001b[0ma\u001b[0m\u001b[1;33m)\u001b[0m\u001b[1;33m\u001b[0m\u001b[1;33m\u001b[0m\u001b[0m\n",
      "\u001b[1;31mAttributeError\u001b[0m: 'Test' object has no attribute 'm'"
     ]
    }
   ],
   "source": [
    "class Test:\n",
    "    def m1(self):\n",
    "        print(\"Class\")\n",
    "t=Test()\n",
    "t.m()\n",
    "print(a)"
   ]
  },
  {
   "cell_type": "code",
   "execution_count": null,
   "metadata": {},
   "outputs": [],
   "source": [
    "*By default every attribute(name of method, cls etc) in python is public. We can access from anywhere either\n",
    "within the cls or from outside of the class by using cls name or objectreferencevariable.\n",
    "Example:\n",
    "    name=\"DivyaSri\"\n",
    "    "
   ]
  },
  {
   "cell_type": "code",
   "execution_count": null,
   "metadata": {},
   "outputs": [],
   "source": [
    "* Protected Attribute can be accessed within the cls anywhere, but from outside we can access in only childclass.\n",
    "* Protected Attributes are created by using _ as prefex.\n",
    "\n",
    "syntax:\n",
    "    \n",
    "    _variablename=value\n",
    "    \n",
    "    example: _name=\"Divya\"\n",
    "        "
   ]
  },
  {
   "cell_type": "code",
   "execution_count": null,
   "metadata": {},
   "outputs": [],
   "source": [
    "* Private Attributes can be accessed within the class. We cannot access from outside of the class.\n",
    "* We create private attributes prefix with __(two underscores)\n",
    "\n",
    "syntax:\n",
    "    __variablename=value\n",
    "    \n",
    "    Example:\n",
    "        __name=\"Divya\"\n",
    "        "
   ]
  },
  {
   "cell_type": "code",
   "execution_count": 4,
   "metadata": {},
   "outputs": [
    {
     "name": "stdout",
     "output_type": "stream",
     "text": [
      "10\n",
      "20\n",
      "30\n"
     ]
    }
   ],
   "source": [
    "#example pgm\n",
    "class Test:\n",
    "    x=10\n",
    "    _y=20 #protected\n",
    "    __z=30 #private\n",
    "    def m1(self):\n",
    "        print(Test.x)\n",
    "        print(Test._y)\n",
    "        print(Test.__z)\n",
    "        \n",
    "t=Test()\n",
    "t.m1()\n",
    "        "
   ]
  },
  {
   "cell_type": "code",
   "execution_count": 5,
   "metadata": {},
   "outputs": [
    {
     "name": "stdout",
     "output_type": "stream",
     "text": [
      "10\n",
      "20\n",
      "30\n",
      "10\n",
      "20\n"
     ]
    },
    {
     "ename": "AttributeError",
     "evalue": "type object 'Test' has no attribute '__z'",
     "output_type": "error",
     "traceback": [
      "\u001b[1;31m---------------------------------------------------------------------------\u001b[0m",
      "\u001b[1;31mAttributeError\u001b[0m                            Traceback (most recent call last)",
      "\u001b[1;32m<ipython-input-5-fa35cf1c63bc>\u001b[0m in \u001b[0;36m<module>\u001b[1;34m\u001b[0m\n\u001b[0;32m     13\u001b[0m \u001b[0mprint\u001b[0m\u001b[1;33m(\u001b[0m\u001b[0mTest\u001b[0m\u001b[1;33m.\u001b[0m\u001b[0mx\u001b[0m\u001b[1;33m)\u001b[0m\u001b[1;33m\u001b[0m\u001b[1;33m\u001b[0m\u001b[0m\n\u001b[0;32m     14\u001b[0m \u001b[0mprint\u001b[0m\u001b[1;33m(\u001b[0m\u001b[0mTest\u001b[0m\u001b[1;33m.\u001b[0m\u001b[0m_y\u001b[0m\u001b[1;33m)\u001b[0m\u001b[1;33m\u001b[0m\u001b[1;33m\u001b[0m\u001b[0m\n\u001b[1;32m---> 15\u001b[1;33m \u001b[0mprint\u001b[0m\u001b[1;33m(\u001b[0m\u001b[0mTest\u001b[0m\u001b[1;33m.\u001b[0m\u001b[0m__z\u001b[0m\u001b[1;33m)\u001b[0m\u001b[1;33m\u001b[0m\u001b[1;33m\u001b[0m\u001b[0m\n\u001b[0m",
      "\u001b[1;31mAttributeError\u001b[0m: type object 'Test' has no attribute '__z'"
     ]
    }
   ],
   "source": [
    "#example pgm\n",
    "class Test:\n",
    "    x=10\n",
    "    _y=20 #protected\n",
    "    __z=30 #private\n",
    "    def m1(self):\n",
    "        print(Test.x)\n",
    "        print(Test._y)\n",
    "        print(Test.__z)\n",
    "        \n",
    "t=Test()\n",
    "t.m1()\n",
    "print(Test.x)\n",
    "print(Test._y)       \n",
    "print(Test.__z)"
   ]
  },
  {
   "cell_type": "code",
   "execution_count": 6,
   "metadata": {},
   "outputs": [
    {
     "name": "stdout",
     "output_type": "stream",
     "text": [
      "10\n",
      "20\n",
      "30\n"
     ]
    },
    {
     "ename": "AttributeError",
     "evalue": "'Train' object has no attribute '_Train__y'",
     "output_type": "error",
     "traceback": [
      "\u001b[1;31m---------------------------------------------------------------------------\u001b[0m",
      "\u001b[1;31mAttributeError\u001b[0m                            Traceback (most recent call last)",
      "\u001b[1;32m<ipython-input-6-230b621511d0>\u001b[0m in \u001b[0;36m<module>\u001b[1;34m\u001b[0m\n\u001b[0;32m     15\u001b[0m \u001b[0mt\u001b[0m\u001b[1;33m.\u001b[0m\u001b[0mm1\u001b[0m\u001b[1;33m(\u001b[0m\u001b[1;33m)\u001b[0m\u001b[1;33m\u001b[0m\u001b[1;33m\u001b[0m\u001b[0m\n\u001b[0;32m     16\u001b[0m \u001b[0mt2\u001b[0m\u001b[1;33m=\u001b[0m\u001b[0mTrain\u001b[0m\u001b[1;33m(\u001b[0m\u001b[1;33m)\u001b[0m\u001b[1;33m\u001b[0m\u001b[1;33m\u001b[0m\u001b[0m\n\u001b[1;32m---> 17\u001b[1;33m \u001b[0mt2\u001b[0m\u001b[1;33m.\u001b[0m\u001b[0mm2\u001b[0m\u001b[1;33m(\u001b[0m\u001b[1;33m)\u001b[0m\u001b[1;33m\u001b[0m\u001b[1;33m\u001b[0m\u001b[0m\n\u001b[0m\u001b[0;32m     18\u001b[0m \u001b[1;31m#print(Test.x)\u001b[0m\u001b[1;33m\u001b[0m\u001b[1;33m\u001b[0m\u001b[1;33m\u001b[0m\u001b[0m\n\u001b[0;32m     19\u001b[0m \u001b[1;31m#print(Test._y)\u001b[0m\u001b[1;33m\u001b[0m\u001b[1;33m\u001b[0m\u001b[1;33m\u001b[0m\u001b[0m\n",
      "\u001b[1;32m<ipython-input-6-230b621511d0>\u001b[0m in \u001b[0;36mm2\u001b[1;34m(self)\u001b[0m\n\u001b[0;32m     10\u001b[0m \u001b[1;32mclass\u001b[0m \u001b[0mTrain\u001b[0m\u001b[1;33m:\u001b[0m\u001b[1;33m\u001b[0m\u001b[1;33m\u001b[0m\u001b[0m\n\u001b[0;32m     11\u001b[0m     \u001b[1;32mdef\u001b[0m \u001b[0mm2\u001b[0m\u001b[1;33m(\u001b[0m\u001b[0mself\u001b[0m\u001b[1;33m)\u001b[0m\u001b[1;33m:\u001b[0m\u001b[1;33m\u001b[0m\u001b[1;33m\u001b[0m\u001b[0m\n\u001b[1;32m---> 12\u001b[1;33m         \u001b[0mprint\u001b[0m\u001b[1;33m(\u001b[0m\u001b[0mself\u001b[0m\u001b[1;33m.\u001b[0m\u001b[0m__y\u001b[0m\u001b[1;33m)\u001b[0m\u001b[1;33m\u001b[0m\u001b[1;33m\u001b[0m\u001b[0m\n\u001b[0m\u001b[0;32m     13\u001b[0m \u001b[1;33m\u001b[0m\u001b[0m\n\u001b[0;32m     14\u001b[0m \u001b[0mt\u001b[0m\u001b[1;33m=\u001b[0m\u001b[0mTest\u001b[0m\u001b[1;33m(\u001b[0m\u001b[1;33m)\u001b[0m\u001b[1;33m\u001b[0m\u001b[1;33m\u001b[0m\u001b[0m\n",
      "\u001b[1;31mAttributeError\u001b[0m: 'Train' object has no attribute '_Train__y'"
     ]
    }
   ],
   "source": [
    "#example pgm\n",
    "class Test:\n",
    "    x=10\n",
    "    _y=20 #protected\n",
    "    __z=30 #private\n",
    "    def m1(self):\n",
    "        print(Test.x)\n",
    "        print(Test._y)\n",
    "        print(Test.__z)\n",
    "class Train:\n",
    "    def m2(self):\n",
    "        print(self.__y)\n",
    "        \n",
    "t=Test()\n",
    "t.m1()\n",
    "t2=Train()\n",
    "t2.m2()\n",
    "#print(Test.x)\n",
    "#print(Test._y)       \n",
    "#print(Test.__z)"
   ]
  },
  {
   "cell_type": "code",
   "execution_count": 11,
   "metadata": {},
   "outputs": [
    {
     "name": "stdout",
     "output_type": "stream",
     "text": [
      "10\n",
      "20\n",
      "30\n",
      "20\n"
     ]
    }
   ],
   "source": [
    "#example pgm\n",
    "class Test:\n",
    "    x=10\n",
    "    _y=20 #protected\n",
    "    __z=30 #private\n",
    "    def m1(self):\n",
    "        print(Test.x)\n",
    "        print(Test._y)\n",
    "        print(Test.__z)\n",
    "class Train(Test):\n",
    "    def m2(self):\n",
    "        print(self._y)\n",
    "        \n",
    "t=Test()\n",
    "t.m1()\n",
    "t2=Train()\n",
    "t2.m2()\n",
    "#print(Test.x)\n",
    "#print(Test._y)       \n",
    "#print(Test.__z)"
   ]
  },
  {
   "cell_type": "code",
   "execution_count": 12,
   "metadata": {},
   "outputs": [
    {
     "name": "stdout",
     "output_type": "stream",
     "text": [
      "10\n",
      "20\n",
      "30\n"
     ]
    },
    {
     "ename": "AttributeError",
     "evalue": "'Train' object has no attribute '_y'",
     "output_type": "error",
     "traceback": [
      "\u001b[1;31m---------------------------------------------------------------------------\u001b[0m",
      "\u001b[1;31mAttributeError\u001b[0m                            Traceback (most recent call last)",
      "\u001b[1;32m<ipython-input-12-8ed171fcbf20>\u001b[0m in \u001b[0;36m<module>\u001b[1;34m\u001b[0m\n\u001b[0;32m     16\u001b[0m \u001b[0mt\u001b[0m\u001b[1;33m.\u001b[0m\u001b[0mm1\u001b[0m\u001b[1;33m(\u001b[0m\u001b[1;33m)\u001b[0m\u001b[1;33m\u001b[0m\u001b[1;33m\u001b[0m\u001b[0m\n\u001b[0;32m     17\u001b[0m \u001b[0mt2\u001b[0m\u001b[1;33m=\u001b[0m\u001b[0mTrain\u001b[0m\u001b[1;33m(\u001b[0m\u001b[1;33m)\u001b[0m\u001b[1;33m\u001b[0m\u001b[1;33m\u001b[0m\u001b[0m\n\u001b[1;32m---> 18\u001b[1;33m \u001b[0mt2\u001b[0m\u001b[1;33m.\u001b[0m\u001b[0mm2\u001b[0m\u001b[1;33m(\u001b[0m\u001b[1;33m)\u001b[0m\u001b[1;33m\u001b[0m\u001b[1;33m\u001b[0m\u001b[0m\n\u001b[0m\u001b[0;32m     19\u001b[0m \u001b[1;31m#print(Test.x)\u001b[0m\u001b[1;33m\u001b[0m\u001b[1;33m\u001b[0m\u001b[1;33m\u001b[0m\u001b[0m\n\u001b[0;32m     20\u001b[0m \u001b[1;31m#print(Test._y)\u001b[0m\u001b[1;33m\u001b[0m\u001b[1;33m\u001b[0m\u001b[1;33m\u001b[0m\u001b[0m\n",
      "\u001b[1;32m<ipython-input-12-8ed171fcbf20>\u001b[0m in \u001b[0;36mm2\u001b[1;34m(self)\u001b[0m\n\u001b[0;32m     10\u001b[0m \u001b[1;32mclass\u001b[0m \u001b[0mTrain\u001b[0m\u001b[1;33m:\u001b[0m\u001b[1;33m\u001b[0m\u001b[1;33m\u001b[0m\u001b[0m\n\u001b[0;32m     11\u001b[0m     \u001b[1;32mdef\u001b[0m \u001b[0mm2\u001b[0m\u001b[1;33m(\u001b[0m\u001b[0mself\u001b[0m\u001b[1;33m)\u001b[0m\u001b[1;33m:\u001b[0m\u001b[1;33m\u001b[0m\u001b[1;33m\u001b[0m\u001b[0m\n\u001b[1;32m---> 12\u001b[1;33m         \u001b[0mprint\u001b[0m\u001b[1;33m(\u001b[0m\u001b[0mself\u001b[0m\u001b[1;33m.\u001b[0m\u001b[0m_y\u001b[0m\u001b[1;33m)\u001b[0m\u001b[1;33m\u001b[0m\u001b[1;33m\u001b[0m\u001b[0m\n\u001b[0m\u001b[0;32m     13\u001b[0m         \u001b[0mprint\u001b[0m\u001b[1;33m(\u001b[0m\u001b[0mself\u001b[0m\u001b[1;33m.\u001b[0m\u001b[0m__z\u001b[0m\u001b[1;33m)\u001b[0m\u001b[1;33m\u001b[0m\u001b[1;33m\u001b[0m\u001b[0m\n\u001b[0;32m     14\u001b[0m \u001b[1;33m\u001b[0m\u001b[0m\n",
      "\u001b[1;31mAttributeError\u001b[0m: 'Train' object has no attribute '_y'"
     ]
    }
   ],
   "source": [
    "#example pgm\n",
    "class Test:\n",
    "    x=10\n",
    "    _y=20 #protected\n",
    "    __z=30 #private\n",
    "    def m1(self):\n",
    "        print(Test.x)\n",
    "        print(Test._y)\n",
    "        print(Test.__z)\n",
    "class Train:\n",
    "    def m2(self):\n",
    "        print(self._y)\n",
    "        print(self.__z)\n",
    "        \n",
    "t=Test()\n",
    "t.m1()\n",
    "t2=Train()\n",
    "t2.m2()\n",
    "#print(Test.x)\n",
    "#print(Test._y)       \n",
    "#print(Test.__z)"
   ]
  },
  {
   "cell_type": "markdown",
   "metadata": {},
   "source": [
    "## How to access private attributes from outside of the class:\n",
    "    "
   ]
  },
  {
   "cell_type": "code",
   "execution_count": null,
   "metadata": {},
   "outputs": [],
   "source": [
    "*We cannot access private variables directly from outside of the class.\n",
    "*But we can access indirectly from outside of the class.\n",
    "\n",
    "objectreferencevariable._classname__variablename"
   ]
  },
  {
   "cell_type": "code",
   "execution_count": 14,
   "metadata": {},
   "outputs": [
    {
     "name": "stdout",
     "output_type": "stream",
     "text": [
      "10\n"
     ]
    }
   ],
   "source": [
    "class Test:\n",
    "    def __init__(self):\n",
    "        self.__x=10\n",
    "t=Test()\n",
    "print(t._Test__x)"
   ]
  },
  {
   "cell_type": "markdown",
   "metadata": {},
   "source": [
    "# __str__() method"
   ]
  },
  {
   "cell_type": "code",
   "execution_count": null,
   "metadata": {},
   "outputs": [],
   "source": [
    "*__str__() is used to print where the object reference variable is located internally.\n",
    "\n",
    "<__main__.classname object at 0x00220435f1>\n",
    "\n",
    "*usage: to know the location in the server, where it got placed\n",
    "* used to return particular values in particular location\n",
    "* This method is used to override address with the given data\n",
    "* This method cant perform evaluation of data (starting with 0 it cant convert)\n",
    "* evaluation: converts string to alpha-numeric"
   ]
  },
  {
   "cell_type": "code",
   "execution_count": 16,
   "metadata": {},
   "outputs": [
    {
     "name": "stdout",
     "output_type": "stream",
     "text": [
      "This is student name: Divya and rollno: 1024\n"
     ]
    }
   ],
   "source": [
    "class Student:\n",
    "    def __init__(self,name,rollno):\n",
    "        self.name=name\n",
    "        self.rollno=rollno\n",
    "    def __str__(self):\n",
    "        return \"This is student name: {} and rollno: {}\".format(self.name,self.rollno)\n",
    "s1=Student(\"Divya\",1024) #address gets overrides with this data\n",
    "print(s1)"
   ]
  },
  {
   "cell_type": "markdown",
   "metadata": {},
   "source": [
    "# str VS repr()"
   ]
  },
  {
   "cell_type": "code",
   "execution_count": null,
   "metadata": {},
   "outputs": [],
   "source": [
    "repr() supports evaluation of data"
   ]
  },
  {
   "cell_type": "code",
   "execution_count": 17,
   "metadata": {},
   "outputs": [
    {
     "name": "stdout",
     "output_type": "stream",
     "text": [
      "2021-06-09 16:56:05.539022\n"
     ]
    }
   ],
   "source": [
    "#example pgm\n",
    "import datetime\n",
    "today=datetime.datetime.now()\n",
    "s=str(today)\n",
    "print(s)"
   ]
  },
  {
   "cell_type": "code",
   "execution_count": 18,
   "metadata": {},
   "outputs": [
    {
     "name": "stdout",
     "output_type": "stream",
     "text": [
      "2021-06-09 16:57:04.879767\n"
     ]
    },
    {
     "ename": "SyntaxError",
     "evalue": "invalid token (<string>, line 1)",
     "output_type": "error",
     "traceback": [
      "Traceback \u001b[1;36m(most recent call last)\u001b[0m:\n",
      "  File \u001b[0;32m\"C:\\ProgramData1\\Anaconda3\\lib\\site-packages\\IPython\\core\\interactiveshell.py\"\u001b[0m, line \u001b[0;32m3326\u001b[0m, in \u001b[0;35mrun_code\u001b[0m\n    exec(code_obj, self.user_global_ns, self.user_ns)\n",
      "\u001b[1;36m  File \u001b[1;32m\"<ipython-input-18-de3313c4a0cf>\"\u001b[1;36m, line \u001b[1;32m6\u001b[1;36m, in \u001b[1;35m<module>\u001b[1;36m\u001b[0m\n\u001b[1;33m    d=eval(s)\u001b[0m\n",
      "\u001b[1;36m  File \u001b[1;32m\"<string>\"\u001b[1;36m, line \u001b[1;32m1\u001b[0m\n\u001b[1;33m    2021-06-09 16:57:04.879767\u001b[0m\n\u001b[1;37m          ^\u001b[0m\n\u001b[1;31mSyntaxError\u001b[0m\u001b[1;31m:\u001b[0m invalid token\n"
     ]
    }
   ],
   "source": [
    "#example pgm\n",
    "import datetime\n",
    "today=datetime.datetime.now()\n",
    "s=str(today)\n",
    "print(s)\n",
    "d=eval(s)"
   ]
  },
  {
   "cell_type": "code",
   "execution_count": 19,
   "metadata": {},
   "outputs": [
    {
     "name": "stdout",
     "output_type": "stream",
     "text": [
      "datetime.datetime(2021, 6, 9, 16, 58, 0, 603149)\n"
     ]
    }
   ],
   "source": [
    "#example pgm\n",
    "import datetime\n",
    "today=datetime.datetime.now()\n",
    "s=repr(today)\n",
    "print(s)\n",
    "d=eval(s)\n"
   ]
  },
  {
   "cell_type": "markdown",
   "metadata": {},
   "source": [
    "# Mini Project"
   ]
  },
  {
   "cell_type": "code",
   "execution_count": 23,
   "metadata": {},
   "outputs": [
    {
     "name": "stdout",
     "output_type": "stream",
     "text": [
      "Divya's savings account with balance:10000\n",
      "Divya's savings account with balance:15000\n",
      "Divya's savings account with balance:45000\n",
      "Divya's savings account with balance:21000\n",
      "Divya's savings account with balance:0\n"
     ]
    }
   ],
   "source": [
    "class Account:\n",
    "    def __init__(self,name,balance,min_balance):\n",
    "        self.name=name\n",
    "        self.balance=balance\n",
    "        self.min_balance=min_balance\n",
    "    def deposit(self,amount):\n",
    "        self.balance=self.balance+amount\n",
    "    def withdraw(self,amount):\n",
    "        if self.balance-amount>=self.min_balance:\n",
    "            self.balance=self.balance-amount\n",
    "        else:\n",
    "            print(\"sorry... Insufficient funds...\")\n",
    "    def printstatement(self):\n",
    "        print(\"Account Balance is:\",self.balance)\n",
    "class Current(Account):\n",
    "    def __init__(self,name,balance):\n",
    "        super().__init__(name,balance,min_balance=10000)\n",
    "    def __str__(self):\n",
    "        return \"{}'s current account with balance:{}\".format(self.name,self.balance)\n",
    "class Savings(Account):\n",
    "    def __init__(self,name,balance):\n",
    "        super().__init__(name,balance,min_balance=0)\n",
    "    def __str__(self):\n",
    "        return \"{}'s savings account with balance:{}\".format(self.name,self.balance)\n",
    "c=Savings(\"Divya\",10000)\n",
    "print(c)\n",
    "c.deposit(5000)\n",
    "print(c)\n",
    "c.deposit(30000)\n",
    "print(c)\n",
    "c.withdraw(24000)\n",
    "print(c)\n",
    "c.withdraw(21000)\n",
    "print(c)\n",
    "        "
   ]
  },
  {
   "cell_type": "code",
   "execution_count": 27,
   "metadata": {},
   "outputs": [
    {
     "name": "stdout",
     "output_type": "stream",
     "text": [
      "Divya's savings account with balance:10000\n",
      "Divya's savings account with balance:15000\n",
      "sorry... Insufficient funds...\n",
      "Divya's savings account with balance:15000\n"
     ]
    }
   ],
   "source": [
    "class Account:\n",
    "    def __init__(self,name,balance,min_balance):\n",
    "        self.name=name\n",
    "        self.balance=balance\n",
    "        self.min_balance=min_balance\n",
    "    def deposit(self,amount):\n",
    "        self.balance=self.balance+amount\n",
    "    def withdraw(self,amount):\n",
    "        if self.balance-amount>=self.min_balance:\n",
    "            self.balance=self.balance-amount\n",
    "        else:\n",
    "            print(\"sorry... Insufficient funds...\")\n",
    "    def printstatement(self):\n",
    "        print(\"Account Balance is:\",self.balance)\n",
    "class Current(Account):\n",
    "    def __init__(self,name,balance):\n",
    "        super().__init__(name,balance,min_balance=10000)\n",
    "    def __str__(self):\n",
    "        return \"{}'s current account with balance:{}\".format(self.name,self.balance)\n",
    "class Savings(Account):\n",
    "    def __init__(self,name,balance):\n",
    "        super().__init__(name,balance,min_balance=0)\n",
    "    def __str__(self):\n",
    "        return \"{}'s savings account with balance:{}\".format(self.name,self.balance)\n",
    "c=Savings(\"Divya\",10000)\n",
    "print(c)\n",
    "c.deposit(5000)\n",
    "print(c)\n",
    "c.withdraw(66000)\n",
    "print(c)"
   ]
  },
  {
   "cell_type": "code",
   "execution_count": 29,
   "metadata": {},
   "outputs": [
    {
     "name": "stdout",
     "output_type": "stream",
     "text": [
      "Divya's savings account with balance:10000\n",
      "Divya's savings account with balance:60000\n",
      "Divya's savings account with balance:0\n"
     ]
    }
   ],
   "source": [
    "class Account:\n",
    "    def __init__(self,name,balance,min_balance):\n",
    "        self.name=name\n",
    "        self.balance=balance\n",
    "        self.min_balance=min_balance\n",
    "    def deposit(self,amount):\n",
    "        self.balance=self.balance+amount\n",
    "    def withdraw(self,amount):\n",
    "        if self.balance-amount>=self.min_balance:\n",
    "            self.balance=self.balance-amount\n",
    "        else:\n",
    "            print(\"sorry... Insufficient funds...\")\n",
    "    def printstatement(self):\n",
    "        print(\"Account Balance is:\",self.balance)\n",
    "class Current(Account):\n",
    "    def __init__(self,name,balance):\n",
    "        super().__init__(name,balance,min_balance=10000)\n",
    "    def __str__(self):\n",
    "        return \"{}'s current account with balance:{}\".format(self.name,self.balance)\n",
    "class Savings(Account):\n",
    "    def __init__(self,name,balance):\n",
    "        super().__init__(name,balance,min_balance=0)\n",
    "    def __str__(self):\n",
    "        return \"{}'s savings account with balance:{}\".format(self.name,self.balance)\n",
    "c=Savings(\"Divya\",10000)\n",
    "print(c)\n",
    "c.deposit(50000)\n",
    "print(c)\n",
    "c.withdraw(60000)\n",
    "print(c)"
   ]
  },
  {
   "cell_type": "code",
   "execution_count": null,
   "metadata": {},
   "outputs": [],
   "source": []
  }
 ],
 "metadata": {
  "kernelspec": {
   "display_name": "Python 3",
   "language": "python",
   "name": "python3"
  },
  "language_info": {
   "codemirror_mode": {
    "name": "ipython",
    "version": 3
   },
   "file_extension": ".py",
   "mimetype": "text/x-python",
   "name": "python",
   "nbconvert_exporter": "python",
   "pygments_lexer": "ipython3",
   "version": "3.7.4"
  }
 },
 "nbformat": 4,
 "nbformat_minor": 2
}

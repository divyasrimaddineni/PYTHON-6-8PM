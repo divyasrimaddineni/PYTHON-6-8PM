{
 "cells": [
  {
   "cell_type": "code",
   "execution_count": null,
   "metadata": {},
   "outputs": [],
   "source": [
    "TASK: an application which is running but it is fixed"
   ]
  },
  {
   "cell_type": "markdown",
   "metadata": {},
   "source": [
    "# Multi Tasking"
   ]
  },
  {
   "cell_type": "code",
   "execution_count": null,
   "metadata": {},
   "outputs": [],
   "source": [
    "executing several tasks simultaneously is called multi-tasking.\n",
    "use: To reduce Response-time we use this concept.\n",
    "applications: video games,web-based apps."
   ]
  },
  {
   "cell_type": "code",
   "execution_count": null,
   "metadata": {},
   "outputs": [],
   "source": [
    "Two types:\n",
    "\n",
    "1. process-based multi tasking\n",
    "2. Thread-based multi tasking"
   ]
  },
  {
   "cell_type": "markdown",
   "metadata": {},
   "source": [
    "## 1. Process based MultiTasking"
   ]
  },
  {
   "cell_type": "code",
   "execution_count": null,
   "metadata": {},
   "outputs": [],
   "source": [
    "*executing several tasks simultaneously where each task is independent(seperate).\n",
    "*Process based MultiTasking is handled by OS.\n",
    "*Example:\n",
    "    While writing python pgm in jupyter notebook we can play songs in mp3 player. Here jupyter notebook and mp3 player runs independently.\n",
    "\n",
    "* This type of multi tasking is best suitable at operating system level.    "
   ]
  },
  {
   "cell_type": "markdown",
   "metadata": {},
   "source": [
    "## 2. Thread-based multi tasking"
   ]
  },
  {
   "cell_type": "code",
   "execution_count": null,
   "metadata": {},
   "outputs": [],
   "source": [
    "* Executing several tasks simultaneously where each task is a seperate independent of same pgm.\n"
   ]
  },
  {
   "cell_type": "markdown",
   "metadata": {},
   "source": [
    "### pgm to print name of current executing thread\n"
   ]
  },
  {
   "cell_type": "code",
   "execution_count": 1,
   "metadata": {},
   "outputs": [
    {
     "name": "stdout",
     "output_type": "stream",
     "text": [
      " Current Executing Thread: MainThread\n"
     ]
    }
   ],
   "source": [
    "import threading\n",
    "print(\" Current Executing Thread:\",threading.current_thread().getName())"
   ]
  },
  {
   "cell_type": "markdown",
   "metadata": {},
   "source": [
    "# The ways of Creating Threads in Python:"
   ]
  },
  {
   "cell_type": "code",
   "execution_count": null,
   "metadata": {},
   "outputs": [],
   "source": [
    "1. Creating a Thread Without any Class\n",
    "2. Creating a thread by extending Thread Class\n",
    "3. Creating a Thread without extending Thread Class."
   ]
  },
  {
   "cell_type": "markdown",
   "metadata": {},
   "source": [
    "## 1. Creating a Thread Without any Class"
   ]
  },
  {
   "cell_type": "code",
   "execution_count": 3,
   "metadata": {},
   "outputs": [
    {
     "name": "stdout",
     "output_type": "stream",
     "text": [
      "Child Thread \n",
      "Child Thread \n",
      "Child Thread \n",
      "Child Thread \n",
      "Child Thread \n",
      "Child Thread \n",
      "Child Thread \n",
      "Child Thread \n",
      "Child Thread \n",
      "Child Thread \n",
      "Main Thread\n",
      "Main Thread\n",
      "Main Thread\n",
      "Main Thread\n",
      "Main Thread\n",
      "Main Thread\n",
      "Main Thread\n",
      "Main Thread\n",
      "Main Thread\n",
      "Main Thread\n"
     ]
    }
   ],
   "source": [
    "from threading import*\n",
    "def display():\n",
    "    for i in range(1,11):\n",
    "        print(\"Child Thread \")\n",
    "t=Thread(target=display) # creating a thread object\n",
    "t.start() # starting of thread\n",
    "for i in range(1,11):\n",
    "    print(\"Main Thread\")\n",
    "#both child&thread are same pgm but executing independently\n",
    "    "
   ]
  },
  {
   "cell_type": "markdown",
   "metadata": {},
   "source": [
    "## 2. Creating a thread by extending Thread Class"
   ]
  },
  {
   "cell_type": "code",
   "execution_count": 5,
   "metadata": {},
   "outputs": [
    {
     "name": "stdout",
     "output_type": "stream",
     "text": [
      "child thread 1 \n",
      "child thread 1 \n",
      "child thread 1 \n",
      "child thread 1 \n",
      "child thread 1 \n",
      "child thread 1 \n",
      "child thread 1 \n",
      "child thread 1 \n",
      "child thread 1 \n",
      "child thread 1 \n",
      "Main thread 1\n",
      "Main thread 1\n",
      "Main thread 1\n",
      "Main thread 1\n",
      "Main thread 1\n",
      "Main thread 1\n",
      "Main thread 1\n",
      "Main thread 1\n",
      "Main thread 1\n",
      "Main thread 1\n"
     ]
    }
   ],
   "source": [
    "from threading import*\n",
    "class MyThread(Thread):\n",
    "    def run(self):\n",
    "        for i in range(10):\n",
    "            print(\"child thread 1 \")\n",
    "t=MyThread()\n",
    "t.start() # start is inbuilt method in threading concept\n",
    "for i in range(10):\n",
    "    print(\"Main thread 1\")"
   ]
  },
  {
   "cell_type": "markdown",
   "metadata": {},
   "source": [
    "## 3. Creating a Thread without extending Thread Class"
   ]
  },
  {
   "cell_type": "code",
   "execution_count": 11,
   "metadata": {},
   "outputs": [
    {
     "name": "stdout",
     "output_type": "stream",
     "text": [
      "Child Thread Main thread 2\n",
      "Main thread 2\n",
      "Main thread 2\n",
      "Main thread 2\n",
      "Main thread 2\n",
      "Main thread 2\n",
      "Child Thread \n",
      "\n",
      "Main thread 2\n",
      "Main thread 2\n",
      "Main thread 2\n",
      "Main thread 2\n",
      "Child Thread \n",
      "Child Thread \n",
      "Child Thread \n",
      "Child Thread \n",
      "Child Thread \n",
      "Child Thread \n",
      "Child Thread \n",
      "Child Thread \n"
     ]
    }
   ],
   "source": [
    "from threading import*\n",
    "class Test:\n",
    "    def display(self):\n",
    "        for i in range(10):\n",
    "            print(\"child thread 2\")\n",
    "obj=Test()\n",
    "t=Thread(target=display) # creating thread object\n",
    "t.start()\n",
    "for i in range(10):\n",
    "    print(\"Main thread 2\")"
   ]
  },
  {
   "cell_type": "markdown",
   "metadata": {},
   "source": [
    "# Without Multi Threading"
   ]
  },
  {
   "cell_type": "code",
   "execution_count": 12,
   "metadata": {},
   "outputs": [
    {
     "name": "stdout",
     "output_type": "stream",
     "text": [
      "Double 2\n",
      "Double 4\n",
      "Double 6\n",
      "Double 8\n",
      "Double 10\n",
      "Square: 1\n",
      "Square: 4\n",
      "Square: 9\n",
      "Square: 16\n",
      "Square: 25\n",
      "the total time taken: 10.074733257293701\n"
     ]
    }
   ],
   "source": [
    "from threading import*\n",
    "import time\n",
    "def doubles(numbers):\n",
    "    for n in numbers:\n",
    "        time.sleep(1)\n",
    "        print(\"Double\",2*n)\n",
    "def squares(numbers):\n",
    "    for n in numbers:\n",
    "        time.sleep(1)\n",
    "        print(\"Square:\",n*n)\n",
    "numbers=[1,2,3,4,5]\n",
    "begintime=time.time()\n",
    "doubles(numbers)\n",
    "squares(numbers)\n",
    "print(\"the total time taken:\",time.time()-begintime)"
   ]
  },
  {
   "cell_type": "code",
   "execution_count": 13,
   "metadata": {},
   "outputs": [
    {
     "name": "stdout",
     "output_type": "stream",
     "text": [
      "Square:Double 2\n",
      " 1\n",
      "Square:Double  4\n",
      "4\n",
      "Square:Double 6\n",
      " 9\n",
      "Square:Double 16\n",
      " 8\n",
      "Square:Double 25\n",
      " 10\n",
      "the total time taken: 5.074739217758179\n"
     ]
    }
   ],
   "source": [
    "from threading import*\n",
    "import time\n",
    "def doubles(numbers):\n",
    "    for n in numbers:\n",
    "        time.sleep(1)\n",
    "        print(\"Double\",2*n)\n",
    "def squares(numbers):\n",
    "    for n in numbers:\n",
    "        time.sleep(1)\n",
    "        print(\"Square:\",n*n)\n",
    "numbers=[1,2,3,4,5]\n",
    "begintime=time.time()\n",
    "t1=Thread(target=doubles,args=(numbers,))\n",
    "t2=Thread(target=squares,args=(numbers,))\n",
    "t1.start()\n",
    "t2.start()\n",
    "t1.join()\n",
    "t2.join()\n",
    "print(\"the total time taken:\",time.time()-begintime)"
   ]
  },
  {
   "cell_type": "code",
   "execution_count": null,
   "metadata": {},
   "outputs": [],
   "source": []
  },
  {
   "cell_type": "code",
   "execution_count": null,
   "metadata": {},
   "outputs": [],
   "source": []
  }
 ],
 "metadata": {
  "kernelspec": {
   "display_name": "Python 3",
   "language": "python",
   "name": "python3"
  },
  "language_info": {
   "codemirror_mode": {
    "name": "ipython",
    "version": 3
   },
   "file_extension": ".py",
   "mimetype": "text/x-python",
   "name": "python",
   "nbconvert_exporter": "python",
   "pygments_lexer": "ipython3",
   "version": "3.7.4"
  }
 },
 "nbformat": 4,
 "nbformat_minor": 2
}

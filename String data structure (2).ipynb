{
 "cells": [
  {
   "cell_type": "markdown",
   "metadata": {},
   "source": [
    "## Removing of spaces from the String"
   ]
  },
  {
   "cell_type": "markdown",
   "metadata": {},
   "source": [
    "strip(): to remove spaces from both sides of the string but not middle space.\n",
    "    \n",
    "rstrip():to remove space at rightside of string.\n",
    "    \n",
    "lstrip():to remove space at left side of string.\n",
    "    \n",
    "NOTE:strip is mainly used in MAILS\n",
    "\n",
    "syntax: stringname.strip()/lstrip()/rstrip():\n",
    "        "
   ]
  },
  {
   "cell_type": "code",
   "execution_count": null,
   "metadata": {},
   "outputs": [],
   "source": [
    "s=input(\"enter string:\")\n",
    "print(s)\n",
    "s1=s.strip()\n",
    "print(s1)"
   ]
  },
  {
   "cell_type": "code",
   "execution_count": null,
   "metadata": {},
   "outputs": [],
   "source": [
    "s=input(\"enter string:\")\n",
    "print(s)\n",
    "if s==\"divyasri\":\n",
    "    print(\"spaces removed\")\n",
    "else:\n",
    "    print(\"pls remove the spaces\")\n",
    "    s1=s.strip()\n",
    "    if s1==\"divyasri\":\n",
    "        print(\"spaces removed by strip function\")\n",
    "    \n",
    "    "
   ]
  },
  {
   "cell_type": "code",
   "execution_count": null,
   "metadata": {},
   "outputs": [],
   "source": [
    "s=input(\"enter string:\")\n",
    "print(s)\n",
    "if s==\"divyasri\":\n",
    "    print(\"spaces removed\")\n",
    "else:\n",
    "    print(\"pls remove the spaces\")\n",
    "    s1=s.rstrip()\n",
    "    if s1==\"divyasri\":\n",
    "        print(\"spaces removed by strip function\")\n",
    "    \n",
    "    "
   ]
  },
  {
   "cell_type": "code",
   "execution_count": null,
   "metadata": {},
   "outputs": [],
   "source": [
    "s=input(\"enter string:\")\n",
    "print(s)\n",
    "if s==\"divyasri\":\n",
    "    print(\"spaces removed\")\n",
    "else:\n",
    "    print(\"pls remove the spaces\")\n",
    "    s1=s.lstrip()\n",
    "    if s1==\"divyasri\":\n",
    "        print(\"spaces removed by strip function\")\n",
    "    \n",
    "    "
   ]
  },
  {
   "cell_type": "code",
   "execution_count": null,
   "metadata": {},
   "outputs": [],
   "source": []
  }
 ],
 "metadata": {
  "kernelspec": {
   "display_name": "Python 3 (ipykernel)",
   "language": "python",
   "name": "python3"
  },
  "language_info": {
   "codemirror_mode": {
    "name": "ipython",
    "version": 3
   },
   "file_extension": ".py",
   "mimetype": "text/x-python",
   "name": "python",
   "nbconvert_exporter": "python",
   "pygments_lexer": "ipython3",
   "version": "3.9.7"
  }
 },
 "nbformat": 4,
 "nbformat_minor": 4
}

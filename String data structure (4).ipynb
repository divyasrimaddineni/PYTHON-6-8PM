{
 "cells": [
  {
   "cell_type": "markdown",
   "metadata": {},
   "source": [
    "## Removing of spaces from the String"
   ]
  },
  {
   "cell_type": "markdown",
   "metadata": {},
   "source": [
    "strip(): to remove spaces from both sides of the string but not middle space.\n",
    "    \n",
    "rstrip():to remove space at rightside of string.\n",
    "    \n",
    "lstrip():to remove space at left side of string.\n",
    "    \n",
    "NOTE:strip is mainly used in MAILS\n",
    "\n",
    "syntax: stringname.strip()/lstrip()/rstrip():\n",
    "        "
   ]
  },
  {
   "cell_type": "code",
   "execution_count": null,
   "metadata": {},
   "outputs": [],
   "source": [
    "s=input(\"enter string:\")\n",
    "print(s)\n",
    "s1=s.strip()\n",
    "print(s1)"
   ]
  },
  {
   "cell_type": "code",
   "execution_count": null,
   "metadata": {},
   "outputs": [],
   "source": [
    "s=input(\"enter string:\")\n",
    "print(s)\n",
    "if s==\"divyasri\":\n",
    "    print(\"spaces removed\")\n",
    "else:\n",
    "    print(\"pls remove the spaces\")\n",
    "    s1=s.strip()\n",
    "    if s1==\"divyasri\":\n",
    "        print(\"spaces removed by strip function\")\n",
    "    \n",
    "    "
   ]
  },
  {
   "cell_type": "code",
   "execution_count": null,
   "metadata": {},
   "outputs": [],
   "source": [
    "s=input(\"enter string:\")\n",
    "print(s)\n",
    "if s==\"divyasri\":\n",
    "    print(\"spaces removed\")\n",
    "else:\n",
    "    print(\"pls remove the spaces\")\n",
    "    s1=s.rstrip()\n",
    "    if s1==\"divyasri\":\n",
    "        print(\"spaces removed by strip function\")\n",
    "    \n",
    "    "
   ]
  },
  {
   "cell_type": "code",
   "execution_count": null,
   "metadata": {},
   "outputs": [],
   "source": [
    "s=input(\"enter string:\")\n",
    "print(s)\n",
    "if s==\"divyasri\":\n",
    "    print(\"spaces removed\")\n",
    "else:\n",
    "    print(\"pls remove the spaces\")\n",
    "    s1=s.lstrip()\n",
    "    if s1==\"divyasri\":\n",
    "        print(\"spaces removed by strip function\")\n",
    "    \n",
    "    "
   ]
  },
  {
   "cell_type": "markdown",
   "metadata": {},
   "source": [
    "## finding substring"
   ]
  },
  {
   "cell_type": "markdown",
   "metadata": {},
   "source": [
    "for forwarding direction:\n",
    "    \n",
    "    1.find()\n",
    "    \n",
    "    2.index()\n",
    "    \n",
    "for backward direction:\n",
    "    \n",
    "    1.rfind()\n",
    "    \n",
    "    2.rindex()\n",
    "    "
   ]
  },
  {
   "cell_type": "markdown",
   "metadata": {},
   "source": [
    "### 1.find():"
   ]
  },
  {
   "cell_type": "code",
   "execution_count": null,
   "metadata": {},
   "outputs": [],
   "source": [
    "returns index of first occurence of given substring in main string. if it is not found it returns(-1)\n",
    "\n",
    "       syntax: s.find(substring)\n",
    "       syntax for boundaries without searching the whole string: s.find(substring,startindex,endindex)\n",
    "       "
   ]
  },
  {
   "cell_type": "code",
   "execution_count": 1,
   "metadata": {},
   "outputs": [
    {
     "name": "stdout",
     "output_type": "stream",
     "text": [
      "0\n"
     ]
    }
   ],
   "source": [
    "s=\"Hello gud mrng, hello gud evng\"\n",
    "print(s.find(\"Hello\"))"
   ]
  },
  {
   "cell_type": "code",
   "execution_count": 2,
   "metadata": {},
   "outputs": [
    {
     "name": "stdout",
     "output_type": "stream",
     "text": [
      "6\n",
      "1\n",
      "12\n",
      "-1\n",
      "-1\n"
     ]
    }
   ],
   "source": [
    "s=\"Hello hello gud mrng, hello gud evng\"\n",
    "print(s.find(\"hello\"))\n",
    "print(s.find('e'))\n",
    "print(s.find(\"gud\"))\n",
    "print(s.find(\"divya\"))\n",
    "print(s.find('x'))\n"
   ]
  },
  {
   "cell_type": "code",
   "execution_count": 3,
   "metadata": {},
   "outputs": [
    {
     "name": "stdout",
     "output_type": "stream",
     "text": [
      "-1\n",
      "6\n"
     ]
    }
   ],
   "source": [
    "s=\"Hello Hai How are you\"\n",
    "print(s.find(\"Hello\",2,15))\n",
    "print(s.find(\"Ha\",2,14))"
   ]
  },
  {
   "cell_type": "markdown",
   "metadata": {},
   "source": [
    "## 2.index():"
   ]
  },
  {
   "cell_type": "markdown",
   "metadata": {},
   "source": [
    "index is same as find() except that if the substring is not found it will give value error. To deal with value errors we use exception handling concept."
   ]
  },
  {
   "cell_type": "code",
   "execution_count": 4,
   "metadata": {},
   "outputs": [
    {
     "name": "stdout",
     "output_type": "stream",
     "text": [
      "0\n"
     ]
    },
    {
     "ename": "ValueError",
     "evalue": "substring not found",
     "output_type": "error",
     "traceback": [
      "\u001b[1;31m---------------------------------------------------------------------------\u001b[0m",
      "\u001b[1;31mValueError\u001b[0m                                Traceback (most recent call last)",
      "\u001b[1;32m<ipython-input-4-25543b858992>\u001b[0m in \u001b[0;36m<module>\u001b[1;34m\u001b[0m\n\u001b[0;32m      1\u001b[0m \u001b[0ms\u001b[0m\u001b[1;33m=\u001b[0m\u001b[1;34m\"Hello Divyasri Maddineni\"\u001b[0m\u001b[1;33m\u001b[0m\u001b[1;33m\u001b[0m\u001b[0m\n\u001b[0;32m      2\u001b[0m \u001b[0mprint\u001b[0m\u001b[1;33m(\u001b[0m\u001b[0ms\u001b[0m\u001b[1;33m.\u001b[0m\u001b[0mindex\u001b[0m\u001b[1;33m(\u001b[0m\u001b[1;34m\"Hello\"\u001b[0m\u001b[1;33m)\u001b[0m\u001b[1;33m)\u001b[0m\u001b[1;33m\u001b[0m\u001b[1;33m\u001b[0m\u001b[0m\n\u001b[1;32m----> 3\u001b[1;33m \u001b[0mprint\u001b[0m\u001b[1;33m(\u001b[0m\u001b[0ms\u001b[0m\u001b[1;33m.\u001b[0m\u001b[0mindex\u001b[0m\u001b[1;33m(\u001b[0m\u001b[1;34m\"divyasri\"\u001b[0m\u001b[1;33m)\u001b[0m\u001b[1;33m)\u001b[0m\u001b[1;33m\u001b[0m\u001b[1;33m\u001b[0m\u001b[0m\n\u001b[0m",
      "\u001b[1;31mValueError\u001b[0m: substring not found"
     ]
    }
   ],
   "source": [
    "s=\"Hello Divyasri Maddineni\"\n",
    "print(s.index(\"Hello\"))\n",
    "print(s.index(\"divyasri\"))"
   ]
  },
  {
   "cell_type": "code",
   "execution_count": 5,
   "metadata": {},
   "outputs": [
    {
     "name": "stdout",
     "output_type": "stream",
     "text": [
      "substring is not found\n"
     ]
    }
   ],
   "source": [
    "#To deal with value errors we use exception handling concept.\n",
    "s=\"Hello Divyasri Maddineni\"\n",
    "try:\n",
    "    print(s.index(\"sravya\"))\n",
    "except ValueError:\n",
    "    print(\"substring is not found\")"
   ]
  },
  {
   "cell_type": "code",
   "execution_count": null,
   "metadata": {},
   "outputs": [],
   "source": []
  }
 ],
 "metadata": {
  "kernelspec": {
   "display_name": "Python 3 (ipykernel)",
   "language": "python",
   "name": "python3"
  },
  "language_info": {
   "codemirror_mode": {
    "name": "ipython",
    "version": 3
   },
   "file_extension": ".py",
   "mimetype": "text/x-python",
   "name": "python",
   "nbconvert_exporter": "python",
   "pygments_lexer": "ipython3",
   "version": "3.9.7"
  }
 },
 "nbformat": 4,
 "nbformat_minor": 4
}

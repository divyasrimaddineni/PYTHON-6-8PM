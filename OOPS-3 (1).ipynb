{
 "cells": [
  {
   "cell_type": "markdown",
   "metadata": {},
   "source": [
    "# Polymorphism"
   ]
  },
  {
   "cell_type": "code",
   "execution_count": null,
   "metadata": {},
   "outputs": [],
   "source": [
    "* poly means many and morphs means forms.\n",
    "* polymorphism means many forms\n",
    "* By using this concept we can create methods with same name for different types of classes.\n"
   ]
  },
  {
   "cell_type": "code",
   "execution_count": null,
   "metadata": {},
   "outputs": [],
   "source": [
    "Example: Student behaviour differs a/c to the situation like infront of the friends, infront of parents,\n",
    "         infront of lecturer behaviour varies."
   ]
  },
  {
   "cell_type": "code",
   "execution_count": null,
   "metadata": {},
   "outputs": [],
   "source": [
    "Ex: + ---> operator acts as arithmetic addition  or concatenation for strings.\n",
    "    \n",
    "Ex: * ---> operator acts as multiplication or repetition operator(ex:\"hello\"*3)    "
   ]
  },
  {
   "cell_type": "code",
   "execution_count": null,
   "metadata": {},
   "outputs": [],
   "source": [
    "Ex: The same method with different implementations in parent class and child classes.(Overriding)"
   ]
  },
  {
   "cell_type": "markdown",
   "metadata": {},
   "source": [
    "# Concepts of Polymorphism:\n",
    "    "
   ]
  },
  {
   "cell_type": "markdown",
   "metadata": {},
   "source": [
    "# 1.Duck Typing Philosphy"
   ]
  },
  {
   "cell_type": "code",
   "execution_count": null,
   "metadata": {},
   "outputs": [],
   "source": [
    "* In Python, we cannot specify the type explicitly. DataType is decided based on the value what we assign to the variable.\n",
    "* Here datatype or the class of an object is less important than the method it defines.\n",
    "*Using Duck Typing, we do not check datatypes at all.\n"
   ]
  },
  {
   "cell_type": "code",
   "execution_count": 3,
   "metadata": {},
   "outputs": [
    {
     "name": "stdout",
     "output_type": "stream",
     "text": [
      "Quack.....Quack....\n",
      "Bow....Bow....\n",
      "Meow......Meow....\n"
     ]
    }
   ],
   "source": [
    "#example pgm\n",
    "class Duck:\n",
    "    def talk(self):\n",
    "        print(\"Quack.....Quack....\")\n",
    "class Dog:\n",
    "    def talk(self):\n",
    "        print(\"Bow....Bow....\")\n",
    "class Cat:\n",
    "    def talk(self):\n",
    "        print(\"Meow......Meow....\")\n",
    "        \n",
    "def f1(obj):#external object is created b/c above all clses consists same method\n",
    "    obj.talk()\n",
    "    \n",
    "l=[Duck(),Dog(),Cat()] #list format\n",
    "for obj in l:\n",
    "    f1(obj)"
   ]
  },
  {
   "cell_type": "code",
   "execution_count": 4,
   "metadata": {},
   "outputs": [
    {
     "name": "stdout",
     "output_type": "stream",
     "text": [
      "Quack.....Quack....\n"
     ]
    },
    {
     "ename": "AttributeError",
     "evalue": "'Dog' object has no attribute 'talk'",
     "output_type": "error",
     "traceback": [
      "\u001b[1;31m---------------------------------------------------------------------------\u001b[0m",
      "\u001b[1;31mAttributeError\u001b[0m                            Traceback (most recent call last)",
      "\u001b[1;32m<ipython-input-4-b875ff8434af>\u001b[0m in \u001b[0;36m<module>\u001b[1;34m\u001b[0m\n\u001b[0;32m     15\u001b[0m \u001b[0ml\u001b[0m\u001b[1;33m=\u001b[0m\u001b[1;33m[\u001b[0m\u001b[0mDuck\u001b[0m\u001b[1;33m(\u001b[0m\u001b[1;33m)\u001b[0m\u001b[1;33m,\u001b[0m\u001b[0mDog\u001b[0m\u001b[1;33m(\u001b[0m\u001b[1;33m)\u001b[0m\u001b[1;33m,\u001b[0m\u001b[0mCat\u001b[0m\u001b[1;33m(\u001b[0m\u001b[1;33m)\u001b[0m\u001b[1;33m]\u001b[0m \u001b[1;31m#list format\u001b[0m\u001b[1;33m\u001b[0m\u001b[1;33m\u001b[0m\u001b[0m\n\u001b[0;32m     16\u001b[0m \u001b[1;32mfor\u001b[0m \u001b[0mobj\u001b[0m \u001b[1;32min\u001b[0m \u001b[0ml\u001b[0m\u001b[1;33m:\u001b[0m\u001b[1;33m\u001b[0m\u001b[1;33m\u001b[0m\u001b[0m\n\u001b[1;32m---> 17\u001b[1;33m     \u001b[0mf1\u001b[0m\u001b[1;33m(\u001b[0m\u001b[0mobj\u001b[0m\u001b[1;33m)\u001b[0m\u001b[1;33m\u001b[0m\u001b[1;33m\u001b[0m\u001b[0m\n\u001b[0m",
      "\u001b[1;32m<ipython-input-4-b875ff8434af>\u001b[0m in \u001b[0;36mf1\u001b[1;34m(obj)\u001b[0m\n\u001b[0;32m     11\u001b[0m \u001b[1;33m\u001b[0m\u001b[0m\n\u001b[0;32m     12\u001b[0m \u001b[1;32mdef\u001b[0m \u001b[0mf1\u001b[0m\u001b[1;33m(\u001b[0m\u001b[0mobj\u001b[0m\u001b[1;33m)\u001b[0m\u001b[1;33m:\u001b[0m\u001b[1;33m\u001b[0m\u001b[1;33m\u001b[0m\u001b[0m\n\u001b[1;32m---> 13\u001b[1;33m     \u001b[0mobj\u001b[0m\u001b[1;33m.\u001b[0m\u001b[0mtalk\u001b[0m\u001b[1;33m(\u001b[0m\u001b[1;33m)\u001b[0m\u001b[1;33m\u001b[0m\u001b[1;33m\u001b[0m\u001b[0m\n\u001b[0m\u001b[0;32m     14\u001b[0m \u001b[1;33m\u001b[0m\u001b[0m\n\u001b[0;32m     15\u001b[0m \u001b[0ml\u001b[0m\u001b[1;33m=\u001b[0m\u001b[1;33m[\u001b[0m\u001b[0mDuck\u001b[0m\u001b[1;33m(\u001b[0m\u001b[1;33m)\u001b[0m\u001b[1;33m,\u001b[0m\u001b[0mDog\u001b[0m\u001b[1;33m(\u001b[0m\u001b[1;33m)\u001b[0m\u001b[1;33m,\u001b[0m\u001b[0mCat\u001b[0m\u001b[1;33m(\u001b[0m\u001b[1;33m)\u001b[0m\u001b[1;33m]\u001b[0m \u001b[1;31m#list format\u001b[0m\u001b[1;33m\u001b[0m\u001b[1;33m\u001b[0m\u001b[0m\n",
      "\u001b[1;31mAttributeError\u001b[0m: 'Dog' object has no attribute 'talk'"
     ]
    }
   ],
   "source": [
    "#example pgm\n",
    "class Duck:\n",
    "    def talk(self):\n",
    "        print(\"Quack.....Quack....\")\n",
    "class Dog:\n",
    "    def bark(self):\n",
    "        print(\"Bow....Bow....\")\n",
    "class Cat:\n",
    "    def talk(self):\n",
    "        print(\"Meow......Meow....\")\n",
    "        \n",
    "def f1(obj): \n",
    "    obj.talk()\n",
    "    \n",
    "l=[Duck(),Dog(),Cat()] \n",
    "for obj in l:\n",
    "    f1(obj)"
   ]
  },
  {
   "cell_type": "code",
   "execution_count": null,
   "metadata": {},
   "outputs": [],
   "source": [
    "To resolve the above Attribute Error problem we use \"hasattribute\":- hasattr(obj,\"Attributename\")\n",
    "Attributename can be MethodName or VariableName"
   ]
  },
  {
   "cell_type": "code",
   "execution_count": 5,
   "metadata": {},
   "outputs": [
    {
     "name": "stdout",
     "output_type": "stream",
     "text": [
      "Quack.....Quack....\n",
      "Bow....Bow....\n",
      "Meow......Meow....\n"
     ]
    }
   ],
   "source": [
    "#example pgm\n",
    "class Duck:\n",
    "    def talk(self):\n",
    "        print(\"Quack.....Quack....\")\n",
    "class Dog:\n",
    "    def bark(self):\n",
    "        print(\"Bow....Bow....\")\n",
    "class Cat:\n",
    "    def talk(self):\n",
    "        print(\"Meow......Meow....\")\n",
    "        \n",
    "def f1(obj):\n",
    "    if hasattr(obj,'talk'):\n",
    "        obj.talk()\n",
    "    elif hasattr(obj,\"bark\"):\n",
    "        obj.bark()\n",
    "\n",
    "    \n",
    "l=[Duck(),Dog(),Cat()]\n",
    "for obj in l:\n",
    "    f1(obj)"
   ]
  },
  {
   "cell_type": "code",
   "execution_count": 6,
   "metadata": {},
   "outputs": [
    {
     "name": "stdout",
     "output_type": "stream",
     "text": [
      "Quack.....Quack....\n",
      "Bow....Bow....\n",
      "Meow......Meow....\n"
     ]
    }
   ],
   "source": [
    "#example pgm\n",
    "class Duck:\n",
    "    def talk(self):\n",
    "        print(\"Quack.....Quack....\")\n",
    "class Dog:\n",
    "    def bark(self):\n",
    "        print(\"Bow....Bow....\")\n",
    "class Cat:\n",
    "    def meow(self):\n",
    "        print(\"Meow......Meow....\")\n",
    "        \n",
    "def f1(obj):\n",
    "    if hasattr(obj,'talk'):\n",
    "        obj.talk()\n",
    "    elif hasattr(obj,\"bark\"):\n",
    "        obj.bark()\n",
    "    elif hasattr(obj,\"meow\"):\n",
    "        obj.meow()\n",
    "\n",
    "    \n",
    "l=[Duck(),Dog(),Cat()] \n",
    "for obj in l:\n",
    "    f1(obj)"
   ]
  },
  {
   "cell_type": "markdown",
   "metadata": {},
   "source": [
    "# 2.Overloading"
   ]
  },
  {
   "cell_type": "code",
   "execution_count": null,
   "metadata": {},
   "outputs": [],
   "source": [
    "*We can use same operator/Method/constructor for different purposes.\n",
    "* use: improves code clarity and eliminates complexity."
   ]
  },
  {
   "cell_type": "code",
   "execution_count": 7,
   "metadata": {},
   "outputs": [
    {
     "name": "stdout",
     "output_type": "stream",
     "text": [
      "30\n",
      "divyasri\n"
     ]
    }
   ],
   "source": [
    "#example\"+\"\n",
    "print(10+20)\n",
    "print(\"divya\"+\"sri\")"
   ]
  },
  {
   "cell_type": "code",
   "execution_count": 3,
   "metadata": {},
   "outputs": [
    {
     "name": "stdout",
     "output_type": "stream",
     "text": [
      "108\n",
      "Hello divya Hello divya Hello divya \n"
     ]
    }
   ],
   "source": [
    "#example\"*\"\n",
    "print(54*2)\n",
    "print(\"Hello divya \"*3)"
   ]
  },
  {
   "cell_type": "code",
   "execution_count": null,
   "metadata": {},
   "outputs": [],
   "source": [
    "#method example\n",
    "deposit(cash)\n",
    "deposit(cheque)\n",
    "deposit(DD)"
   ]
  },
  {
   "cell_type": "markdown",
   "metadata": {},
   "source": [
    "## Types of Overloading:"
   ]
  },
  {
   "cell_type": "code",
   "execution_count": null,
   "metadata": {},
   "outputs": [],
   "source": [
    "1.Operator Overloading\n",
    "2.Method Overloading\n",
    "3.Constructor Overloading"
   ]
  },
  {
   "cell_type": "markdown",
   "metadata": {},
   "source": [
    "## 1.Operator Overloading"
   ]
  },
  {
   "cell_type": "code",
   "execution_count": 10,
   "metadata": {},
   "outputs": [
    {
     "name": "stdout",
     "output_type": "stream",
     "text": [
      "30\n",
      "divyasri\n"
     ]
    }
   ],
   "source": [
    "#example\"+\"\n",
    "print(10+20)\n",
    "print(\"divya\"+\"sri\")"
   ]
  },
  {
   "cell_type": "code",
   "execution_count": 12,
   "metadata": {},
   "outputs": [
    {
     "name": "stdout",
     "output_type": "stream",
     "text": [
      "20\n",
      "HiiHiiHii\n"
     ]
    }
   ],
   "source": [
    "#example\"*\"\n",
    "print(4*5)\n",
    "print(\"Hii\"*3)"
   ]
  },
  {
   "cell_type": "code",
   "execution_count": 13,
   "metadata": {},
   "outputs": [
    {
     "ename": "TypeError",
     "evalue": "unsupported operand type(s) for +: 'Book' and 'Book'",
     "output_type": "error",
     "traceback": [
      "\u001b[1;31m---------------------------------------------------------------------------\u001b[0m",
      "\u001b[1;31mTypeError\u001b[0m                                 Traceback (most recent call last)",
      "\u001b[1;32m<ipython-input-13-f7e0aad3e12c>\u001b[0m in \u001b[0;36m<module>\u001b[1;34m\u001b[0m\n\u001b[0;32m      5\u001b[0m \u001b[0mb1\u001b[0m\u001b[1;33m=\u001b[0m\u001b[0mBook\u001b[0m\u001b[1;33m(\u001b[0m\u001b[1;36m100\u001b[0m\u001b[1;33m)\u001b[0m\u001b[1;33m\u001b[0m\u001b[1;33m\u001b[0m\u001b[0m\n\u001b[0;32m      6\u001b[0m \u001b[0mb2\u001b[0m\u001b[1;33m=\u001b[0m\u001b[0mBook\u001b[0m\u001b[1;33m(\u001b[0m\u001b[1;36m200\u001b[0m\u001b[1;33m)\u001b[0m\u001b[1;33m\u001b[0m\u001b[1;33m\u001b[0m\u001b[0m\n\u001b[1;32m----> 7\u001b[1;33m \u001b[0mprint\u001b[0m\u001b[1;33m(\u001b[0m\u001b[0mb1\u001b[0m\u001b[1;33m+\u001b[0m\u001b[0mb2\u001b[0m\u001b[1;33m)\u001b[0m\u001b[1;33m\u001b[0m\u001b[1;33m\u001b[0m\u001b[0m\n\u001b[0m",
      "\u001b[1;31mTypeError\u001b[0m: unsupported operand type(s) for +: 'Book' and 'Book'"
     ]
    }
   ],
   "source": [
    "#Example\n",
    "class Book:\n",
    "    def __init__(self,pages):\n",
    "        self.pages=pages\n",
    "b1=Book(100)\n",
    "b2=Book(200)\n",
    "print(b1+b2)"
   ]
  },
  {
   "cell_type": "code",
   "execution_count": null,
   "metadata": {},
   "outputs": [],
   "source": [
    "We can solve the above Error problem by using inbuilt Magic Methods\n",
    "structure:\n",
    "    def __inbuilt magicmethod__(self,other parameters):\n",
    "        return statements"
   ]
  },
  {
   "cell_type": "code",
   "execution_count": 14,
   "metadata": {},
   "outputs": [
    {
     "name": "stdout",
     "output_type": "stream",
     "text": [
      "300\n"
     ]
    }
   ],
   "source": [
    "#Example\n",
    "class Book:\n",
    "    def __init__(self,pages):\n",
    "        self.pages=pages\n",
    "    def __add__(self,other): #pre-defined method\n",
    "        return self.pages+other.pages\n",
    "b1=Book(100)\n",
    "b2=Book(200)\n",
    "print(b1+b2)"
   ]
  },
  {
   "cell_type": "markdown",
   "metadata": {},
   "source": [
    "## List of Operator Overloading Magic Methods"
   ]
  },
  {
   "cell_type": "code",
   "execution_count": null,
   "metadata": {},
   "outputs": [],
   "source": [
    "1) + ---> object.__add__(self,other)\n",
    "2) - ---> object.__sub__(self,other)\n",
    "3) * ---> object.__mul__(self,other)\n",
    "4) / ---> object.__div__(self,other)\n",
    "5) // ---> object.__floordiv__(self,other)\n",
    "6) % ---> object.__mod__(self,other)\n",
    "7) ** ---> object.__pow__(self,other)\n",
    "8) += ---> object.__iadd__(self,other)\n",
    "9) -= ---> object.__isub__(self,other)\n",
    "10) *= ---> object.__imul__(self,other)\n",
    "11) /= ---> object.__idiv__(self,other)\n",
    "12) %= ---> object.__imod__(self,other)\n",
    "\n",
    "\n",
    "\n",
    "a) < ---> object.__lt__(self,other)\n",
    "b) <= ---> object.__le__(self,other)\n",
    "c) > ---> object.__gt__(self,other)\n",
    "d) >= ---> object.__ge__(self,other)\n",
    "\n",
    "\n",
    "\n"
   ]
  },
  {
   "cell_type": "markdown",
   "metadata": {},
   "source": [
    "## 2.Method Overloading"
   ]
  },
  {
   "cell_type": "code",
   "execution_count": null,
   "metadata": {},
   "outputs": [],
   "source": [
    "* if we have two methods with different parameters in the same class then that concept is called method overloading.\n",
    "* In python, it considers only the last method."
   ]
  },
  {
   "cell_type": "code",
   "execution_count": 18,
   "metadata": {},
   "outputs": [
    {
     "name": "stdout",
     "output_type": "stream",
     "text": [
      "Method with 2 arguments\n"
     ]
    }
   ],
   "source": [
    "#example for methodoverloading\n",
    "class Test:\n",
    "    def m1(self):\n",
    "        print(\"Method without arguments\")\n",
    "    def m1(self,a):\n",
    "        print(\"Method with 1 argument\")\n",
    "    def m1(self,a,b):\n",
    "        print(\"Method with 2 arguments\")\n",
    "        \n",
    "t=Test()\n",
    "#t.m1()\n",
    "#t.m1(10)\n",
    "t.m1(10,20) #it considers only the last method"
   ]
  },
  {
   "cell_type": "code",
   "execution_count": 19,
   "metadata": {},
   "outputs": [
    {
     "name": "stdout",
     "output_type": "stream",
     "text": [
      "Method without arguments\n"
     ]
    }
   ],
   "source": [
    "#example for methodoverloading\n",
    "class Test:\n",
    "    def m1(self,a,b):\n",
    "        print(\"Method with 2 arguments\")\n",
    "    def m1(self,a):\n",
    "        print(\"Method with 1 argument\")\n",
    "    def m1(self):\n",
    "        print(\"Method without arguments\")\n",
    "        \n",
    "t=Test()\n",
    "t.m1() #it considers only the last method\n",
    "#t.m1(10)\n",
    "#t.m1(10,20)"
   ]
  },
  {
   "cell_type": "code",
   "execution_count": 23,
   "metadata": {},
   "outputs": [
    {
     "name": "stdout",
     "output_type": "stream",
     "text": [
      "The sum of 3 numbers is: 60\n"
     ]
    }
   ],
   "source": [
    "#example pgm of method overloading with default arguments\n",
    "class Test:\n",
    "    def sum(self,a=None,b=None,c=None):\n",
    "        if a!=None and b!=None and c!=None:\n",
    "            print(\"The sum of 3 numbers is:\",a+b+c)\n",
    "        elif a!=None and b!=None:\n",
    "            print(\"The sum of 2 numbers is:\",a+b)\n",
    "        else:\n",
    "            print(\"please provide 2 or 3 numbers to perform addition\")\n",
    "            \n",
    "t=Test()\n",
    "#t.sum()\n",
    "#t.sum(10)\n",
    "#t.sum(10,20)\n",
    "t.sum(10,20,30)"
   ]
  },
  {
   "cell_type": "code",
   "execution_count": 5,
   "metadata": {},
   "outputs": [
    {
     "name": "stdout",
     "output_type": "stream",
     "text": [
      "please provide 2 or 3 numbers to perform addition\n",
      "please provide 2 or 3 numbers to perform addition\n",
      "The sum of 2 numbers is: 30\n",
      "The sum of 3 numbers is: 60\n"
     ]
    }
   ],
   "source": [
    "#example pgm of method overloading with default arguments\n",
    "class Test:\n",
    "    def sum(self,a=None,b=None,c=None):\n",
    "        if a!=None and b!=None and c!=None:\n",
    "            print(\"The sum of 3 numbers is:\",a+b+c)\n",
    "        elif a!=None and b!=None:\n",
    "            print(\"The sum of 2 numbers is:\",a+b)\n",
    "        else:\n",
    "            print(\"please provide 2 or 3 numbers to perform addition\")\n",
    "            \n",
    "t=Test()\n",
    "t.sum()\n",
    "t.sum(10)\n",
    "t.sum(10,20)\n",
    "t.sum(10,20,30)"
   ]
  },
  {
   "cell_type": "code",
   "execution_count": 24,
   "metadata": {},
   "outputs": [
    {
     "ename": "TypeError",
     "evalue": "sum() takes from 1 to 4 positional arguments but 6 were given",
     "output_type": "error",
     "traceback": [
      "\u001b[1;31m---------------------------------------------------------------------------\u001b[0m",
      "\u001b[1;31mTypeError\u001b[0m                                 Traceback (most recent call last)",
      "\u001b[1;32m<ipython-input-24-1e565ea376ef>\u001b[0m in \u001b[0;36m<module>\u001b[1;34m\u001b[0m\n\u001b[0;32m     14\u001b[0m \u001b[1;31m#t.sum(10,20)\u001b[0m\u001b[1;33m\u001b[0m\u001b[1;33m\u001b[0m\u001b[1;33m\u001b[0m\u001b[0m\n\u001b[0;32m     15\u001b[0m \u001b[1;31m#t.sum(10,20,30)\u001b[0m\u001b[1;33m\u001b[0m\u001b[1;33m\u001b[0m\u001b[1;33m\u001b[0m\u001b[0m\n\u001b[1;32m---> 16\u001b[1;33m \u001b[0mt\u001b[0m\u001b[1;33m.\u001b[0m\u001b[0msum\u001b[0m\u001b[1;33m(\u001b[0m\u001b[1;36m10\u001b[0m\u001b[1;33m,\u001b[0m\u001b[1;36m30\u001b[0m\u001b[1;33m,\u001b[0m\u001b[1;36m40\u001b[0m\u001b[1;33m,\u001b[0m\u001b[1;36m50\u001b[0m\u001b[1;33m,\u001b[0m\u001b[1;36m60\u001b[0m\u001b[1;33m)\u001b[0m\u001b[1;33m\u001b[0m\u001b[1;33m\u001b[0m\u001b[0m\n\u001b[0m",
      "\u001b[1;31mTypeError\u001b[0m: sum() takes from 1 to 4 positional arguments but 6 were given"
     ]
    }
   ],
   "source": [
    "#example pgm of method overloading with default arguments\n",
    "class Test:\n",
    "    def sum(self,a=None,b=None,c=None):\n",
    "        if a!=None and b!=None and c!=None:\n",
    "            print(\"The sum of 3 numbers is:\",a+b+c)\n",
    "        elif a!=None and b!=None:\n",
    "            print(\"The sum of 2 numbers is:\",a+b)\n",
    "        else:\n",
    "            print(\"please provide 2 or 3 numbers to perform addition\")\n",
    "            \n",
    "t=Test()\n",
    "#t.sum()\n",
    "#t.sum(10)\n",
    "#t.sum(10,20)\n",
    "#t.sum(10,20,30)\n",
    "t.sum(10,30,40,50,60)"
   ]
  },
  {
   "cell_type": "code",
   "execution_count": null,
   "metadata": {},
   "outputs": [],
   "source": [
    "To resolve the above Error we use Variable length of arguments concept"
   ]
  },
  {
   "cell_type": "code",
   "execution_count": 25,
   "metadata": {},
   "outputs": [
    {
     "name": "stdout",
     "output_type": "stream",
     "text": [
      "sum is: 190\n"
     ]
    }
   ],
   "source": [
    "#example with variable length of arguments\n",
    "class Test:\n",
    "    def sum(self,*a):\n",
    "        total=0\n",
    "        for x in a:\n",
    "            total=total+x\n",
    "        print(\"sum is:\",total)\n",
    "\n",
    "t=Test()\n",
    "#t.sum()\n",
    "#t.sum(10)\n",
    "#t.sum(10,20)\n",
    "#t.sum(10,20,30)\n",
    "t.sum(10,30,40,50,60)\n"
   ]
  },
  {
   "cell_type": "markdown",
   "metadata": {},
   "source": [
    "## 3.Constructor Overloading"
   ]
  },
  {
   "cell_type": "code",
   "execution_count": null,
   "metadata": {},
   "outputs": [],
   "source": [
    "*Same as method overloading, constructor overloading considers the last constructor if we write multiple constructors.\n",
    "* Constructor overloading is not possible in python."
   ]
  },
  {
   "cell_type": "code",
   "execution_count": 28,
   "metadata": {},
   "outputs": [
    {
     "name": "stdout",
     "output_type": "stream",
     "text": [
      "Two argument constructor\n"
     ]
    }
   ],
   "source": [
    "#example pgm\n",
    "class Test:\n",
    "    def __init__(self):\n",
    "        print(\"No argument constructor\")\n",
    "    def __init__(self,a):\n",
    "        print(\"One argument constructor\")\n",
    "    def __init__(self,a,b):\n",
    "        print(\"Two argument constructor\")\n",
    "        \n",
    "#t=Test()\n",
    "#t=Test(10)\n",
    "t=Test(10,20)"
   ]
  },
  {
   "cell_type": "code",
   "execution_count": 29,
   "metadata": {},
   "outputs": [
    {
     "name": "stdout",
     "output_type": "stream",
     "text": [
      "Two argument constructor\n"
     ]
    }
   ],
   "source": [
    "#example pgm of constructor overloading with default arguments\n",
    "class Test:\n",
    "    def __init__(self,a=None,b=None):\n",
    "        print(\"Two argument constructor\")\n",
    "        \n",
    "#t=Test()\n",
    "#t=Test(10)\n",
    "t=Test(10,20)"
   ]
  },
  {
   "cell_type": "code",
   "execution_count": 30,
   "metadata": {},
   "outputs": [
    {
     "ename": "TypeError",
     "evalue": "__init__() takes from 1 to 3 positional arguments but 6 were given",
     "output_type": "error",
     "traceback": [
      "\u001b[1;31m---------------------------------------------------------------------------\u001b[0m",
      "\u001b[1;31mTypeError\u001b[0m                                 Traceback (most recent call last)",
      "\u001b[1;32m<ipython-input-30-b9fb1e41fa3d>\u001b[0m in \u001b[0;36m<module>\u001b[1;34m\u001b[0m\n\u001b[0;32m      7\u001b[0m \u001b[1;31m#t=Test(10)\u001b[0m\u001b[1;33m\u001b[0m\u001b[1;33m\u001b[0m\u001b[1;33m\u001b[0m\u001b[0m\n\u001b[0;32m      8\u001b[0m \u001b[1;31m#t=Test(10,20)\u001b[0m\u001b[1;33m\u001b[0m\u001b[1;33m\u001b[0m\u001b[1;33m\u001b[0m\u001b[0m\n\u001b[1;32m----> 9\u001b[1;33m \u001b[0mt\u001b[0m\u001b[1;33m=\u001b[0m\u001b[0mTest\u001b[0m\u001b[1;33m(\u001b[0m\u001b[1;36m10\u001b[0m\u001b[1;33m,\u001b[0m\u001b[1;36m20\u001b[0m\u001b[1;33m,\u001b[0m\u001b[1;36m30\u001b[0m\u001b[1;33m,\u001b[0m\u001b[1;36m40\u001b[0m\u001b[1;33m,\u001b[0m\u001b[1;36m50\u001b[0m\u001b[1;33m)\u001b[0m\u001b[1;33m\u001b[0m\u001b[1;33m\u001b[0m\u001b[0m\n\u001b[0m",
      "\u001b[1;31mTypeError\u001b[0m: __init__() takes from 1 to 3 positional arguments but 6 were given"
     ]
    }
   ],
   "source": [
    "#example pgm of constructor overloading with default arguments\n",
    "class Test:\n",
    "    def __init__(self,a=None,b=None):\n",
    "        print(\"Two argument constructor\")\n",
    "        \n",
    "#t=Test()\n",
    "#t=Test(10)\n",
    "#t=Test(10,20)\n",
    "t=Test(10,20,30,40,50)"
   ]
  },
  {
   "cell_type": "code",
   "execution_count": null,
   "metadata": {},
   "outputs": [],
   "source": [
    "*To resolve the above Error we use Variable length of arguments concept."
   ]
  },
  {
   "cell_type": "code",
   "execution_count": 32,
   "metadata": {},
   "outputs": [
    {
     "name": "stdout",
     "output_type": "stream",
     "text": [
      "No argument constructor\n"
     ]
    }
   ],
   "source": [
    "#example with variable length of arguments\n",
    "class Test:\n",
    "    def __init__(self,*a):\n",
    "        print(\"No argument constructor\")\n",
    "        \n",
    "#t=Test()\n",
    "#t=Test(10)\n",
    "#t=Test(10,20)\n",
    "t=Test(10,20,30,40,50)"
   ]
  },
  {
   "cell_type": "code",
   "execution_count": 33,
   "metadata": {},
   "outputs": [
    {
     "name": "stdout",
     "output_type": "stream",
     "text": [
      "No argument constructor\n"
     ]
    }
   ],
   "source": [
    "#example with variable length of arguments\n",
    "class Test:\n",
    "    def __init__(self,*a):\n",
    "        print(\"No argument constructor\")\n",
    "        \n",
    "#t=Test()\n",
    "#t=Test(10)\n",
    "t=Test(10,20)\n",
    "#t=Test(10,20,30,40,50)"
   ]
  },
  {
   "cell_type": "code",
   "execution_count": 34,
   "metadata": {},
   "outputs": [
    {
     "name": "stdout",
     "output_type": "stream",
     "text": [
      "No argument constructor\n",
      "No argument constructor\n"
     ]
    }
   ],
   "source": [
    "#example with variable length of arguments\n",
    "class Test:\n",
    "    def __init__(self,*a):\n",
    "        print(\"No argument constructor\")\n",
    "        \n",
    "#t=Test()\n",
    "t=Test(10)\n",
    "t=Test(10,20)\n",
    "#t=Test(10,20,30,40,50)"
   ]
  },
  {
   "cell_type": "code",
   "execution_count": null,
   "metadata": {},
   "outputs": [],
   "source": []
  }
 ],
 "metadata": {
  "kernelspec": {
   "display_name": "Python 3",
   "language": "python",
   "name": "python3"
  },
  "language_info": {
   "codemirror_mode": {
    "name": "ipython",
    "version": 3
   },
   "file_extension": ".py",
   "mimetype": "text/x-python",
   "name": "python",
   "nbconvert_exporter": "python",
   "pygments_lexer": "ipython3",
   "version": "3.7.4"
  }
 },
 "nbformat": 4,
 "nbformat_minor": 2
}

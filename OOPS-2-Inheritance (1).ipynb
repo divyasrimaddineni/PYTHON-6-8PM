{
 "cells": [
  {
   "cell_type": "markdown",
   "metadata": {},
   "source": [
    "# Topics"
   ]
  },
  {
   "cell_type": "code",
   "execution_count": null,
   "metadata": {},
   "outputs": [],
   "source": [
    "1.Inheritance\n",
    "  a) Has-A Relationship\n",
    "  b) Is-A Relationship\n",
    "2.Is-A vs Has-A Relationship\n",
    "3.Composition vs Aggregation\n",
    "4.Types of Inheritance:\n",
    "    a. SingleLevel Inheritance\n",
    "    b.MultiLevel Inheritance\n",
    "    c.Hierarchial Inheritance\n",
    "    d.Multiple Inheritance\n",
    "    e.Hybrid Inheritance\n",
    "    f.Cyclic Inheritance( not supported in python)\n",
    "5.Method Resolution Order(MRO)/ C3 Algorithm\n",
    "6.Super() Method\n",
    "    \n"
   ]
  },
  {
   "cell_type": "markdown",
   "metadata": {},
   "source": [
    "# 1.Inheritance"
   ]
  },
  {
   "cell_type": "code",
   "execution_count": null,
   "metadata": {},
   "outputs": [],
   "source": [
    "* Using members of One class inside other class is called as Inheritance.\n",
    "*We can achieve in 2 ways:\n",
    "    1. By Composition(Has-A Relationship)\n",
    "    2. By Inheritance(Is-A Relationship)"
   ]
  },
  {
   "cell_type": "markdown",
   "metadata": {},
   "source": [
    "# 1.By Composition (Has-A Relationship)"
   ]
  },
  {
   "cell_type": "code",
   "execution_count": null,
   "metadata": {},
   "outputs": [],
   "source": [
    "*By using class name or by creating object we can access members of one class in another class is called Composition.\n",
    "*Advantage of Composition(Has-A Relationship): Code Reusability\n",
    "*only for extending but can't add extra functionalities to class we use has-a relationship"
   ]
  },
  {
   "cell_type": "code",
   "execution_count": 2,
   "metadata": {},
   "outputs": [
    {
     "name": "stdout",
     "output_type": "stream",
     "text": [
      "Car class is using Engine class functionaity\n",
      "10\n",
      "20\n",
      "Engine is a main part of Car\n"
     ]
    }
   ],
   "source": [
    "#example pgm for Has-A Relationship:\n",
    "class Engine: #class 1\n",
    "    a=10 # static variable\n",
    "    def __init__(self):\n",
    "        self.b=20 # instance variable\n",
    "    def m1(self): # instance method\n",
    "        print(\"Engine is a main part of Car\")\n",
    "        \n",
    "class Car: #class 2\n",
    "    def __init__(self):# instance method\n",
    "        self.engine=Engine() #engine is instance variable\n",
    "    def m2(self):\n",
    "        print(\"Car class is using Engine class functionaity\")\n",
    "        print(self.engine.a) #engine is instance variable\n",
    "        print(self.engine.b)\n",
    "        self.engine.m1()\n",
    "        \n",
    "c=Car() # c is objectreferencevariable\n",
    "c.m2()"
   ]
  },
  {
   "cell_type": "code",
   "execution_count": 3,
   "metadata": {},
   "outputs": [
    {
     "name": "stdout",
     "output_type": "stream",
     "text": [
      "Car class is using Engine class functionaity\n",
      "30\n",
      "20\n",
      "10\n",
      "Engine is a main part of Car\n"
     ]
    }
   ],
   "source": [
    "#example pgm for Has-A Relationship:\n",
    "class Engine:\n",
    "    a=10 # static variable\n",
    "    def __init__(self):\n",
    "        self.b=20 # instance variable\n",
    "    def m1(self):\n",
    "        print(\"Engine is a main part of Car\")\n",
    "        \n",
    "class Car:\n",
    "    def __init__(self):\n",
    "        self.engine=Engine() #instance variable\n",
    "    def m2(self):\n",
    "        print(\"Car class is using Engine class functionaity\")\n",
    "        print(self.engine.a+self.engine.b) #engine is instance variable\n",
    "        print(self.engine.b)\n",
    "        print(self.engine.a)\n",
    "        self.engine.m1()\n",
    "        \n",
    "c=Car()\n",
    "c.m2()"
   ]
  },
  {
   "cell_type": "code",
   "execution_count": 4,
   "metadata": {},
   "outputs": [
    {
     "name": "stdout",
     "output_type": "stream",
     "text": [
      "Employee name: Venky\n",
      "Employee eno: 1008\n",
      "Employee Car information:\n",
      "Car name: BMW\n",
      "Car model: CD-501i\n",
      "car color: Black\n"
     ]
    }
   ],
   "source": [
    "#example program-2\n",
    "class Car:\n",
    "    def __init__(self,name,model,color):\n",
    "        self.name=name\n",
    "        self.model=model\n",
    "        self.color=color\n",
    "    def info(self):\n",
    "        print(\"Car name:\", self.name)\n",
    "        print(\"Car model:\",self.model)\n",
    "        print(\"car color:\",self.color)\n",
    "class Employee:\n",
    "    def __init__(self,ename,eno,car):\n",
    "        self.ename=ename\n",
    "        self.eno=eno\n",
    "        self.car=car\n",
    "    def einfo(self):\n",
    "        print(\"Employee name:\", self.ename)\n",
    "        print(\"Employee eno:\",self.eno)\n",
    "        print(\"Employee Car information:\")\n",
    "        self.car.info() #self.car is instance variable\n",
    "        \n",
    "c=Car(\"BMW\",\"CD-501i\",\"Black\")\n",
    "e=Employee(\"Venky\",1008,c)\n",
    "e.einfo()"
   ]
  },
  {
   "cell_type": "code",
   "execution_count": 14,
   "metadata": {},
   "outputs": [
    {
     "name": "stdout",
     "output_type": "stream",
     "text": [
      "Employee name: Venky\n",
      "Employee eno: 1008\n",
      "Employee Car information:\n",
      "Car name: BMW\n",
      "Car model: CD-501i\n",
      "car color: Black\n"
     ]
    }
   ],
   "source": [
    "#example program\n",
    "class Car:\n",
    "    def __init__(self,name,model,color):\n",
    "        self.name=name\n",
    "        self.model=model\n",
    "        self.color=color\n",
    "    def info(self):\n",
    "        print(\"Car name:\", self.name)\n",
    "        print(\"Car model:\",self.model)\n",
    "        print(\"car color:\",self.color)\n",
    "class Employee:\n",
    "    def __init__(self,name,eno,car):\n",
    "        self.name=name\n",
    "        self.eno=eno\n",
    "        self.car=car\n",
    "    def einfo(self):\n",
    "        print(\"Employee name:\", self.name)\n",
    "        print(\"Employee eno:\",self.eno)\n",
    "        print(\"Employee Car information:\")\n",
    "        self.car.info()\n",
    "        \n",
    "c=Car(\"BMW\",\"CD-501i\",\"Black\")\n",
    "e=Employee(\"Venky\",1008,c)\n",
    "e.einfo()"
   ]
  },
  {
   "cell_type": "code",
   "execution_count": 27,
   "metadata": {},
   "outputs": [
    {
     "name": "stdout",
     "output_type": "stream",
     "text": [
      "a value of class X in class Y: 10\n",
      "b value of class X in class Y: 20\n",
      "m1 method of X class\n",
      "c value of class Y is: 30\n",
      "d value of class Y is: 40\n",
      "m2 method of Y class\n",
      "m2 method of class Y\n"
     ]
    }
   ],
   "source": [
    "#example pgm-3:\n",
    "class X:\n",
    "    a=10\n",
    "    def __init__(self):\n",
    "        self.b=20\n",
    "    def m1(self):\n",
    "        print(\"m1 method of X class\")\n",
    "class Y:\n",
    "    c=30\n",
    "    def __init__(self):\n",
    "        self.d=40\n",
    "    def m2(self):\n",
    "        print(\"m2 method of Y class\")\n",
    "    def m3(self):\n",
    "        x1=X() #x1=objectreferencevariable\n",
    "        print(\"a value of class X in class Y:\",x1.a)\n",
    "        print(\"b value of class X in class Y:\",x1.b)\n",
    "        x1.m1() #calling of m1 of class X in class Y with object reference variable\n",
    "        print(\"c value of class Y is:\",Y.c) # or print(\"c value of class Y is:\",self.c)\n",
    "        print(\"d value of class Y is:\",self.d)\n",
    "        self.m2() #or y1.m2()\n",
    "        print(\"m2 method of class Y\")\n",
    "y1=Y()\n",
    "y1.m3()"
   ]
  },
  {
   "cell_type": "markdown",
   "metadata": {},
   "source": [
    "# 2. By Inheritance(Is-A Relationship)"
   ]
  },
  {
   "cell_type": "code",
   "execution_count": null,
   "metadata": {},
   "outputs": [],
   "source": [
    "* Whatever the variables, methods, constructors available in parent class by default available to child and we are not\n",
    "required to rewrite.\n",
    "* We can extend the functionality with some more extra functionality.\n",
    "* by extending we add simultaneously extra functionalities we use is-a relationship\n"
   ]
  },
  {
   "cell_type": "code",
   "execution_count": 25,
   "metadata": {},
   "outputs": [
    {
     "name": "stdout",
     "output_type": "stream",
     "text": [
      "a value of Parent class : 10\n",
      "b value of Parent class: 20\n",
      "parent instance method\n",
      "parent class method\n",
      "parent class static method\n"
     ]
    }
   ],
   "source": [
    "class Parent:\n",
    "    a=10\n",
    "    def __init__(self): # if child class doesn't consist constructor then, parent class constructor will be executed\n",
    "        self.b=20\n",
    "    def m1(self):\n",
    "        print(\"parent instance method\")\n",
    "    @classmethod\n",
    "    def m2(cls):\n",
    "        print(\"parent class method\")\n",
    "    @staticmethod\n",
    "    def m3():\n",
    "        print(\"parent class static method\")\n",
    "class Child(Parent):\n",
    "    pass# if no statements are there to write then we should write pass but shouldn't left as empty\n",
    "\n",
    "c=Child() # objectreferencevariable is only for child class\n",
    "print(\"a value of Parent class :\",c.a)\n",
    "print(\"b value of Parent class:\",c.b)\n",
    "c.m1()\n",
    "c.m2()\n",
    "c.m3()\n"
   ]
  },
  {
   "cell_type": "markdown",
   "metadata": {},
   "source": [
    "## Is-A vs Has-A Relationship"
   ]
  },
  {
   "cell_type": "code",
   "execution_count": null,
   "metadata": {},
   "outputs": [],
   "source": [
    "1.If we want to extend the existing functionality with some extra functionality then we should go for Is-A Relationship.\n",
    "2.If we dont want to extend and just we have to use the existing functionality then we should go for Has-A Relationship.\n"
   ]
  },
  {
   "cell_type": "code",
   "execution_count": 8,
   "metadata": {},
   "outputs": [
    {
     "name": "stdout",
     "output_type": "stream",
     "text": [
      "Drink Beer and Eat Biryani\n",
      "Python Application Developer at Venkys IT\n",
      "Employee Name: Shaheed\n",
      "Employee Age: 20\n",
      "Employee number: 1024\n",
      "Employee Salary: 98000\n",
      "Car Information:\n",
      "Car name: BMW\n",
      "Car model: VX_3.8D\n",
      "Car color: Black\n"
     ]
    }
   ],
   "source": [
    "#person & employee= Is-A relationship\n",
    "#Car & employee= Has-A Relationship\n",
    "class Car:\n",
    "    def __init__(self,name,model,color):\n",
    "        self.name=name\n",
    "        self.model=model\n",
    "        self.color=color\n",
    "    def carinfo(self):\n",
    "        print(\"Car name:\",self.name)\n",
    "        print(\"Car model:\",self.model)\n",
    "        print(\"Car color:\",self.color)\n",
    "        \n",
    "        \n",
    "class Person: #Person= parent class\n",
    "    def __init__(self,name,age):\n",
    "        self.name=name\n",
    "        self.age=age\n",
    "    def eatanddrink(self):\n",
    "        print(\"Drink Beer and Eat Biryani\")\n",
    "\n",
    "class Employee(Person): #Employee= child class\n",
    "    def __init__(self,name,age,eno,esal,car): # here we extended  parent class with extra functionalities\n",
    "        super().__init__(name,age)\n",
    "        #self.name=name\n",
    "        #self.age=age\n",
    "        self.eno=eno\n",
    "        self.esal=esal\n",
    "        self.car=car\n",
    "    def work(self):\n",
    "        print(\"Python Application Developer at Venkys IT\")\n",
    "    def einfo(self):\n",
    "        print(\"Employee Name:\",self.name)\n",
    "        print(\"Employee Age:\",self.age)\n",
    "        print(\"Employee number:\",self.eno)\n",
    "        print(\"Employee Salary:\",self.esal)\n",
    "        print(\"Car Information:\")\n",
    "        self.car.carinfo() #self.car is instance variable\n",
    "        \n",
    "c=Car(\"BMW\",\"VX_3.8D\",\"Black\")\n",
    "e=Employee(\"Shaheed\",20,1024,98000,c)\n",
    "e.eatanddrink()\n",
    "e.work()\n",
    "e.einfo()\n"
   ]
  },
  {
   "cell_type": "markdown",
   "metadata": {},
   "source": [
    "## Composition vs Aggregation"
   ]
  },
  {
   "cell_type": "code",
   "execution_count": null,
   "metadata": {},
   "outputs": [],
   "source": [
    "Composition:\n",
    "    strong relation b/w contained object & container object\n",
    "Aggregation:  \n",
    "    Weak relation b/w contained object & container object"
   ]
  },
  {
   "cell_type": "markdown",
   "metadata": {},
   "source": [
    "## Composition"
   ]
  },
  {
   "cell_type": "code",
   "execution_count": null,
   "metadata": {},
   "outputs": [],
   "source": [
    "*Without existing container object if there is no chance of existing contained object then container object and \n",
    "contained objects are Strongly associated and that Strong association is called as Composition"
   ]
  },
  {
   "cell_type": "markdown",
   "metadata": {},
   "source": [
    "## Aggregation"
   ]
  },
  {
   "cell_type": "code",
   "execution_count": null,
   "metadata": {},
   "outputs": [],
   "source": [
    "* Without existing container object if there is a chance of existing contained object then container object and \n",
    "contained objects are Weakly associated and that Weakly association is called as Aggregation"
   ]
  },
  {
   "cell_type": "code",
   "execution_count": 9,
   "metadata": {},
   "outputs": [
    {
     "name": "stdout",
     "output_type": "stream",
     "text": [
      "JNTUH\n",
      "Divya\n"
     ]
    }
   ],
   "source": [
    "#example pgm for composition and aggregation\n",
    "#Student & Clgname are weakly associated, Student & name are strongly associated\n",
    "class Student:\n",
    "    collegename=\"JNTUH\" #static variable\n",
    "    def __init__(self,name): #classname and constructor are strongly associated\n",
    "        self.name=name\n",
    "print(Student.collegename)\n",
    "s=Student(\"Divya\")\n",
    "print(s.name)"
   ]
  },
  {
   "cell_type": "markdown",
   "metadata": {},
   "source": [
    "# Types of Inheritance:"
   ]
  },
  {
   "cell_type": "markdown",
   "metadata": {},
   "source": [
    "## 1.Single Inheritance:"
   ]
  },
  {
   "cell_type": "code",
   "execution_count": null,
   "metadata": {},
   "outputs": [],
   "source": [
    "* Inheriting the properties of one class to another class is called Single Inhritance."
   ]
  },
  {
   "cell_type": "code",
   "execution_count": 9,
   "metadata": {},
   "outputs": [
    {
     "name": "stdout",
     "output_type": "stream",
     "text": [
      "Parent class Method\n",
      "Child class Method\n"
     ]
    }
   ],
   "source": [
    "#example pgm\n",
    "class P: #P=parentclass\n",
    "    def m1(self):\n",
    "        print(\"Parent class Method\")\n",
    "class C(P): #C=childclass\n",
    "    def m2(self):\n",
    "        print(\"Child class Method\")\n",
    "        \n",
    "c=C()\n",
    "c.m1()\n",
    "c.m2()"
   ]
  },
  {
   "cell_type": "markdown",
   "metadata": {},
   "source": [
    "## 2.MultiLevel Inheritance:"
   ]
  },
  {
   "cell_type": "code",
   "execution_count": null,
   "metadata": {},
   "outputs": [],
   "source": [
    "The concept of inheriting the properties from multiple classes to single class is called Multilevel Inheritance"
   ]
  },
  {
   "cell_type": "code",
   "execution_count": 11,
   "metadata": {},
   "outputs": [
    {
     "name": "stdout",
     "output_type": "stream",
     "text": [
      "parent method\n",
      "Child1 class method\n",
      "child2 class method\n"
     ]
    }
   ],
   "source": [
    "#example pgm\n",
    "class P:\n",
    "    def m1(self):\n",
    "        print(\"parent method\")\n",
    "class C1(P):\n",
    "    def m2(self):\n",
    "        print(\"Child1 class method\")\n",
    "class C2(C1):\n",
    "    def m3(self):\n",
    "        print(\"child2 class method\")\n",
    "        \n",
    "c=C2()\n",
    "c.m1()\n",
    "c.m2()\n",
    "c.m3()"
   ]
  },
  {
   "cell_type": "code",
   "execution_count": 5,
   "metadata": {},
   "outputs": [
    {
     "name": "stdout",
     "output_type": "stream",
     "text": [
      "parent method\n",
      "Child1 class method\n",
      "child2 class method\n",
      "Child3 class method\n"
     ]
    }
   ],
   "source": [
    "#example pgm\n",
    "class P:\n",
    "    def m1(self):\n",
    "        print(\"parent method\")\n",
    "class C1(P):\n",
    "    def m2(self):\n",
    "        print(\"Child1 class method\")\n",
    "class C2(C1):\n",
    "    def m3(self):\n",
    "        print(\"child2 class method\")\n",
    "class C3(C2):\n",
    "    def m4(self):\n",
    "        print(\"Child3 class method\")\n",
    "        \n",
    "c=C3()\n",
    "c.m1()\n",
    "c.m2()\n",
    "c.m3()\n",
    "c.m4()"
   ]
  },
  {
   "cell_type": "markdown",
   "metadata": {},
   "source": [
    "## 3.Hierarchial Inheritance:"
   ]
  },
  {
   "cell_type": "code",
   "execution_count": null,
   "metadata": {},
   "outputs": [],
   "source": [
    "*The concept of inheriting the properties from one class to multiple classes which are present at same level \n",
    " is called Hierarchial inheritance"
   ]
  },
  {
   "cell_type": "code",
   "execution_count": 12,
   "metadata": {},
   "outputs": [
    {
     "name": "stdout",
     "output_type": "stream",
     "text": [
      "Parent method\n",
      "Childclass1 method\n",
      "Parent method\n",
      "Childclass2 method\n"
     ]
    }
   ],
   "source": [
    "#example pgm for hierarchial inheritance\n",
    "class P:\n",
    "    def m1(self):\n",
    "        print(\"Parent method\")\n",
    "class C1(P):\n",
    "    def m2(self):\n",
    "        print(\"Childclass1 method\")\n",
    "class C2(P):\n",
    "    def m3(self):\n",
    "        print(\"Childclass2 method\")\n",
    "        \n",
    "c1=C1()\n",
    "c1.m1()\n",
    "c1.m2()\n",
    "c2=C2()\n",
    "c2.m1()\n",
    "c2.m3()"
   ]
  },
  {
   "cell_type": "code",
   "execution_count": 13,
   "metadata": {},
   "outputs": [
    {
     "name": "stdout",
     "output_type": "stream",
     "text": [
      "Parent method\n",
      "Childclass1 method\n",
      "Parent method\n",
      "Childclass2 method\n",
      "Parent method\n",
      "Childclass3 method\n"
     ]
    }
   ],
   "source": [
    "#example pgm for hierarchial inheritance\n",
    "class P:\n",
    "    def m1(self):\n",
    "        print(\"Parent method\")\n",
    "class C1(P):\n",
    "    def m2(self):\n",
    "        print(\"Childclass1 method\")\n",
    "class C2(P):\n",
    "    def m3(self):\n",
    "        print(\"Childclass2 method\")\n",
    "class C3(P):\n",
    "    def m4(self):\n",
    "        print(\"Childclass3 method\")        \n",
    "        \n",
    "c1=C1()\n",
    "c1.m1()\n",
    "c1.m2()\n",
    "c2=C2()\n",
    "c2.m1()\n",
    "c2.m3()\n",
    "c3=C3()\n",
    "c3.m1()\n",
    "c3.m4()"
   ]
  },
  {
   "cell_type": "markdown",
   "metadata": {},
   "source": [
    "## 4.Multiple Inheritance"
   ]
  },
  {
   "cell_type": "code",
   "execution_count": null,
   "metadata": {},
   "outputs": [],
   "source": [
    "*The concept of inheriting the properties from multiple classes into single class at a time is known as Multiple inheritance\n",
    "*Here, P1 has first priority then comes P2"
   ]
  },
  {
   "cell_type": "code",
   "execution_count": 18,
   "metadata": {},
   "outputs": [
    {
     "name": "stdout",
     "output_type": "stream",
     "text": [
      "Parent1 method\n",
      "Childclass method\n"
     ]
    }
   ],
   "source": [
    "#example pgm for multiple inheritance\n",
    "class P1:\n",
    "    def m1(self):\n",
    "        print(\"Parent1 method\")\n",
    "class P2:\n",
    "    def m2(self):\n",
    "        print(\"Parent2 method\")\n",
    "class C(P1,P2):\n",
    "    def m3(self):\n",
    "        print(\"Childclass method\")\n",
    "        \n",
    "c=C()\n",
    "c.m1()\n",
    "c.m2()\n",
    "c.m3()"
   ]
  },
  {
   "cell_type": "code",
   "execution_count": 19,
   "metadata": {},
   "outputs": [
    {
     "name": "stdout",
     "output_type": "stream",
     "text": [
      "Parent1 method\n",
      "Childclass method\n"
     ]
    }
   ],
   "source": [
    "#example pgm for multiple inheritance\n",
    "class P1:\n",
    "    def m1(self):\n",
    "        print(\"Parent1 method\")\n",
    "class P2:\n",
    "    def m2(self):\n",
    "        print(\"Parent2 method\")\n",
    "class C(P2,P1):\n",
    "    def m3(self):\n",
    "        print(\"Childclass method\")\n",
    "        \n",
    "c=C()\n",
    "c.m1()\n",
    "#c.m2()\n",
    "c.m3()"
   ]
  },
  {
   "cell_type": "code",
   "execution_count": 15,
   "metadata": {},
   "outputs": [
    {
     "name": "stdout",
     "output_type": "stream",
     "text": [
      "Parent1 method\n",
      "Parent2 method\n",
      "Parent3 method\n",
      "Childclass method\n"
     ]
    }
   ],
   "source": [
    "#example pgm for multiple inheritance\n",
    "class P1:\n",
    "    def m1(self):\n",
    "        print(\"Parent1 method\")\n",
    "class P2:\n",
    "    def m2(self):\n",
    "        print(\"Parent2 method\")\n",
    "class P3:\n",
    "    def m3(self):\n",
    "        print(\"Parent3 method\")        \n",
    "        \n",
    "class C(P1,P2,P3):\n",
    "    def m4(self):\n",
    "        print(\"Childclass method\")\n",
    "        \n",
    "c=C()\n",
    "c.m1()\n",
    "c.m2()\n",
    "c.m3()\n",
    "c.m4()"
   ]
  },
  {
   "cell_type": "markdown",
   "metadata": {},
   "source": [
    "## 5.Hybrid Inheritance"
   ]
  },
  {
   "cell_type": "code",
   "execution_count": null,
   "metadata": {},
   "outputs": [],
   "source": []
  },
  {
   "cell_type": "code",
   "execution_count": 29,
   "metadata": {},
   "outputs": [
    {
     "name": "stdout",
     "output_type": "stream",
     "text": [
      "Parent1 method\n",
      "Parent2 method\n",
      "Parent3 method\n",
      "Childclass1 method\n",
      "Childclass2 method\n",
      "Childclass3 method\n",
      "Childclass4 method\n",
      "Childclass5 method\n"
     ]
    }
   ],
   "source": [
    "#example program for Hybrid inheritance\n",
    "class P1:\n",
    "    def m1(self):\n",
    "        print(\"Parent1 method\")\n",
    "class P2:\n",
    "    def m2(self):\n",
    "        print(\"Parent2 method\")\n",
    "class P3:\n",
    "    def m3(self):\n",
    "        print(\"Parent3 method\")                \n",
    "class C1(P1,P2,P3):\n",
    "    def m4(self):\n",
    "        print(\"Childclass1 method\")\n",
    "class C2(C1):\n",
    "    def m5(self):\n",
    "        print(\"Childclass2 method\")\n",
    "class C3(C2):\n",
    "    def m6(self):\n",
    "        print(\"Childclass3 method\")\n",
    "class C4(C3):\n",
    "    def m7(self):\n",
    "        print(\"Childclass4 method\")\n",
    "class C5(C3):\n",
    "    def m8(self):\n",
    "        print(\"Childclass5 method\")\n",
    "\n",
    "c1=C1()\n",
    "c1.m1()\n",
    "c1.m2()\n",
    "c1.m3()\n",
    "c1.m4()\n",
    "c2=C2()\n",
    "c2.m5()\n",
    "c3=C3()\n",
    "c3.m6()\n",
    "c4=C4()\n",
    "c4.m7()\n",
    "c5=C5()\n",
    "c5.m8()\n",
    "\n",
    "\n"
   ]
  },
  {
   "cell_type": "markdown",
   "metadata": {},
   "source": [
    "## 6.Cyclic inheritance"
   ]
  },
  {
   "cell_type": "code",
   "execution_count": null,
   "metadata": {},
   "outputs": [],
   "source": [
    "*Not supported/possible in python because, python is an interpreted language which is line-by-line execution \n",
    "*Parent class acts as child class\n",
    "*The concept of inheriting properties of one class to other class in cyclic way"
   ]
  },
  {
   "cell_type": "code",
   "execution_count": 20,
   "metadata": {},
   "outputs": [
    {
     "ename": "NameError",
     "evalue": "name 'B' is not defined",
     "output_type": "error",
     "traceback": [
      "\u001b[1;31m---------------------------------------------------------------------------\u001b[0m",
      "\u001b[1;31mNameError\u001b[0m                                 Traceback (most recent call last)",
      "\u001b[1;32m<ipython-input-20-9d6cbf40eb75>\u001b[0m in \u001b[0;36m<module>\u001b[1;34m\u001b[0m\n\u001b[1;32m----> 1\u001b[1;33m \u001b[1;32mclass\u001b[0m \u001b[0mA\u001b[0m\u001b[1;33m(\u001b[0m\u001b[0mB\u001b[0m\u001b[1;33m)\u001b[0m\u001b[1;33m:\u001b[0m\u001b[1;33m\u001b[0m\u001b[1;33m\u001b[0m\u001b[0m\n\u001b[0m\u001b[0;32m      2\u001b[0m     \u001b[1;32mpass\u001b[0m\u001b[1;33m\u001b[0m\u001b[1;33m\u001b[0m\u001b[0m\n\u001b[0;32m      3\u001b[0m \u001b[1;32mclass\u001b[0m \u001b[0mB\u001b[0m\u001b[1;33m(\u001b[0m\u001b[0mA\u001b[0m\u001b[1;33m)\u001b[0m\u001b[1;33m:\u001b[0m\u001b[1;33m\u001b[0m\u001b[1;33m\u001b[0m\u001b[0m\n\u001b[0;32m      4\u001b[0m     \u001b[1;32mpass\u001b[0m\u001b[1;33m\u001b[0m\u001b[1;33m\u001b[0m\u001b[0m\n\u001b[0;32m      5\u001b[0m \u001b[1;33m\u001b[0m\u001b[0m\n",
      "\u001b[1;31mNameError\u001b[0m: name 'B' is not defined"
     ]
    }
   ],
   "source": [
    "class A(B): # B is not defined \n",
    "    pass\n",
    "class B(A):\n",
    "    pass\n",
    "\n"
   ]
  },
  {
   "cell_type": "code",
   "execution_count": 21,
   "metadata": {},
   "outputs": [
    {
     "ename": "NameError",
     "evalue": "name 'A' is not defined",
     "output_type": "error",
     "traceback": [
      "\u001b[1;31m---------------------------------------------------------------------------\u001b[0m",
      "\u001b[1;31mNameError\u001b[0m                                 Traceback (most recent call last)",
      "\u001b[1;32m<ipython-input-21-80814c614550>\u001b[0m in \u001b[0;36m<module>\u001b[1;34m\u001b[0m\n\u001b[1;32m----> 1\u001b[1;33m \u001b[1;32mclass\u001b[0m \u001b[0mA\u001b[0m\u001b[1;33m(\u001b[0m\u001b[0mA\u001b[0m\u001b[1;33m)\u001b[0m\u001b[1;33m:\u001b[0m\u001b[1;33m\u001b[0m\u001b[1;33m\u001b[0m\u001b[0m\n\u001b[0m\u001b[0;32m      2\u001b[0m     \u001b[1;32mpass\u001b[0m\u001b[1;33m\u001b[0m\u001b[1;33m\u001b[0m\u001b[0m\n",
      "\u001b[1;31mNameError\u001b[0m: name 'A' is not defined"
     ]
    }
   ],
   "source": [
    "class A(A):\n",
    "    pass"
   ]
  },
  {
   "cell_type": "markdown",
   "metadata": {},
   "source": [
    "# Method Resolution Order(MRO)/C3 Algorithm"
   ]
  },
  {
   "cell_type": "code",
   "execution_count": null,
   "metadata": {},
   "outputs": [],
   "source": [
    "*For priority base we use this concept\n",
    "*in-built function:mro()\n",
    "*syntax:classname.mro() \n",
    "*Than parent class, child class has more priority    \n",
    "*Based on  DLR algorithm(Depth First Left To Right) we resolve the priority\n",
    "*We use head&tail method\n",
    "*Left parent has more priority than Rightside parent and same for child \n",
    "*usage: networking based(Amway,...)\n",
    "    "
   ]
  },
  {
   "cell_type": "code",
   "execution_count": 31,
   "metadata": {},
   "outputs": [
    {
     "name": "stdout",
     "output_type": "stream",
     "text": [
      "[<class '__main__.A'>, <class 'object'>]\n",
      "[<class '__main__.B'>, <class 'object'>]\n",
      "[<class '__main__.C'>, <class '__main__.A'>, <class 'object'>]\n",
      "[<class '__main__.D'>, <class '__main__.B'>, <class '__main__.C'>, <class '__main__.A'>, <class 'object'>]\n"
     ]
    }
   ],
   "source": [
    "class A:\n",
    "    pass\n",
    "class B:\n",
    "    pass\n",
    "class C(A):\n",
    "    pass\n",
    "class D(B,C):\n",
    "    pass\n",
    "print(A.mro())\n",
    "print(B.mro())\n",
    "print(C.mro())\n",
    "print(D.mro())"
   ]
  },
  {
   "cell_type": "markdown",
   "metadata": {},
   "source": [
    "# super() method"
   ]
  },
  {
   "cell_type": "code",
   "execution_count": null,
   "metadata": {},
   "outputs": [],
   "source": [
    "*Super() method is In-built method used to call super class constructors, variables, methods from child class\n"
   ]
  },
  {
   "cell_type": "code",
   "execution_count": 37,
   "metadata": {},
   "outputs": [
    {
     "name": "stdout",
     "output_type": "stream",
     "text": [
      "name is: Divya\n",
      "Age is: 21\n",
      "rollno: 1234\n",
      "marks: 99\n"
     ]
    }
   ],
   "source": [
    "#example pgm\n",
    "class Person:\n",
    "    def __init__(self,name,age):\n",
    "        self.name=name\n",
    "        self.age=age\n",
    "    def display1(self):\n",
    "        print(\"name is:\",self.name)\n",
    "        print(\"Age is:\",self.age)\n",
    "class Student(Person):\n",
    "    def __init__(self,name,age,rollno,marks):\n",
    "        super().__init__(name,age)\n",
    "        self.rollno=rollno\n",
    "        self.marks=marks\n",
    "    def display(self):\n",
    "        super().display1()\n",
    "        print(\"rollno:\",self.rollno)\n",
    "        print(\"marks:\",self.marks)\n",
    "   \n",
    "s1=Student(\"Divya\",21,1234,99)\n",
    "s1.display()\n",
    "\n"
   ]
  },
  {
   "cell_type": "code",
   "execution_count": null,
   "metadata": {},
   "outputs": [],
   "source": []
  }
 ],
 "metadata": {
  "kernelspec": {
   "display_name": "Python 3",
   "language": "python",
   "name": "python3"
  },
  "language_info": {
   "codemirror_mode": {
    "name": "ipython",
    "version": 3
   },
   "file_extension": ".py",
   "mimetype": "text/x-python",
   "name": "python",
   "nbconvert_exporter": "python",
   "pygments_lexer": "ipython3",
   "version": "3.7.4"
  }
 },
 "nbformat": 4,
 "nbformat_minor": 2
}

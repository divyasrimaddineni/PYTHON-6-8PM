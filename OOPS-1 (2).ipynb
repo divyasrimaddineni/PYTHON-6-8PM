{
 "cells": [
  {
   "cell_type": "code",
   "execution_count": null,
   "metadata": {},
   "outputs": [],
   "source": [
    "python is an object-oriented pgming(oop) language.\n",
    "python is a dynamic language, with high-level data types. \n",
    "oop--here computation is done using objects.\n",
    "   --it makes development and maintainance easier.\n",
    "   --real-world problems can be solved here & it simulates real-world entity.\n",
    "   --it provides data hiding i.e,secure than procedural languages.\n",
    "   --oops concept focuses on writing the reusable code.\n",
    "   --Oops is based on the imperative programming paradigm(imperative=step-by-step instructions)\n",
    "Everything in python is an object.\n",
    "ex: a=10 #a is an object\n",
    "Grouping of variables&functions(methods) are classes\n",
    "Varaibles represents Properties\n",
    "Methods represents Actions\n",
    "\n",
    "    "
   ]
  },
  {
   "cell_type": "markdown",
   "metadata": {},
   "source": [
    "# class:"
   ]
  },
  {
   "cell_type": "code",
   "execution_count": null,
   "metadata": {},
   "outputs": [],
   "source": [
    "Class is a Blue-print and it is a collection of objects.\n",
    "Class is a logical entity(real-world instance or real-world objects)(entity=semantic,related) that has some attributes(variables) and methods.\n",
    "We can create any no.of objects for a class\n",
    "Class is a model which we create\n",
    "Class consists of Variables & Methods\n",
    "Variables->Properties, data members\n",
    "Methods->Actions, member functions\n",
    "keyword we use is \"class\"\n",
    "syntax:\n",
    "    class classname: #classname is a user-defined\n",
    "        '''documentation''' #detailed info about class/pgm using magic methods(__doc__) & it is optional\n",
    "        variables:instance,static,local variables\n",
    "        methods:instance,static,class methods    \n",
    "We use classname.__doc__  or  help(classname) to print the documentation of the pgm\n",
    "\n",
    "For instance, if we consider \"dog\" is a class then:\n",
    "    dog's name,age,gender etc are instance Variables\n",
    "    dog can bark,walk i.e dog's functionalities are Methods\n",
    "\n",
    "       "
   ]
  },
  {
   "cell_type": "code",
   "execution_count": 1,
   "metadata": {},
   "outputs": [
    {
     "name": "stdout",
     "output_type": "stream",
     "text": [
      "python oops class started from today\n"
     ]
    }
   ],
   "source": [
    "#example pgm for documentation\n",
    "class python6pm:\n",
    "     '''python oops class started from today'''\n",
    "print(python6pm.__doc__)    "
   ]
  },
  {
   "cell_type": "code",
   "execution_count": 2,
   "metadata": {},
   "outputs": [
    {
     "name": "stdout",
     "output_type": "stream",
     "text": [
      "Help on class python6pm in module __main__:\n",
      "\n",
      "class python6pm(builtins.object)\n",
      " |  python oops class started from today\n",
      " |  \n",
      " |  Data descriptors defined here:\n",
      " |  \n",
      " |  __dict__\n",
      " |      dictionary for instance variables (if defined)\n",
      " |  \n",
      " |  __weakref__\n",
      " |      list of weak references to the object (if defined)\n",
      "\n"
     ]
    }
   ],
   "source": [
    "#example pgm for documentation\n",
    "class python6pm:\n",
    "     '''python oops class started from today'''\n",
    "help(python6pm)    "
   ]
  },
  {
   "cell_type": "code",
   "execution_count": 8,
   "metadata": {},
   "outputs": [
    {
     "name": "stdout",
     "output_type": "stream",
     "text": [
      "Hii iam: divya\n",
      "my age is: 21\n",
      "my marks are: 100\n"
     ]
    }
   ],
   "source": [
    "#example of class with variables&methods\n",
    "class student:\n",
    "    '''This is the class of student details'''\n",
    "    def __init__(self): #__init__ method calls itself\n",
    "        self.name=\"divya\" #instance variable\n",
    "        self.age=21\n",
    "        self.marks=100\n",
    "    def details(self):\n",
    "        print(\"Hii iam:\",self.name)\n",
    "        print(\"my age is:\",self.age)\n",
    "        print(\"my marks are:\",self.marks)\n",
    "        \n",
    "d=student() #d=object reference variable\n",
    "d.details()\n",
    "\n"
   ]
  },
  {
   "cell_type": "markdown",
   "metadata": {},
   "source": [
    "## self variables"
   ]
  },
  {
   "cell_type": "code",
   "execution_count": null,
   "metadata": {},
   "outputs": [],
   "source": [
    "These are default variables which are used for instance(immediate/temporary) purpose\n",
    "self variable is used to bind the instance of the class(object) to the instance method. \n",
    "to access current object in a method we use self variable and represents instance of a class\n",
    "\"self\" should be first parameter in class\n",
    "self is a default parameter\n",
    "__init__ should consist atleast 1 parameter and that must be self parameter\n",
    "self is the default variable which always pointing to current object(like \"this\" keyword in java)\n",
    "\n",
    "1.self should be first parameter inside constructor.\n",
    "def__init__(self):\n",
    "2.self should be first parameter inside instance methods.\n",
    "def talk(self):\n"
   ]
  },
  {
   "cell_type": "code",
   "execution_count": 5,
   "metadata": {},
   "outputs": [
    {
     "name": "stdout",
     "output_type": "stream",
     "text": [
      "Help on class student in module __main__:\n",
      "\n",
      "class student(builtins.object)\n",
      " |  This is the class of student details\n",
      " |  \n",
      " |  Methods defined here:\n",
      " |  \n",
      " |  __init__(self)\n",
      " |      Initialize self.  See help(type(self)) for accurate signature.\n",
      " |  \n",
      " |  details(self)\n",
      " |  \n",
      " |  ----------------------------------------------------------------------\n",
      " |  Data descriptors defined here:\n",
      " |  \n",
      " |  __dict__\n",
      " |      dictionary for instance variables (if defined)\n",
      " |  \n",
      " |  __weakref__\n",
      " |      list of weak references to the object (if defined)\n",
      "\n"
     ]
    }
   ],
   "source": [
    "help(student)"
   ]
  },
  {
   "cell_type": "code",
   "execution_count": 7,
   "metadata": {},
   "outputs": [
    {
     "name": "stdout",
     "output_type": "stream",
     "text": [
      "Hii iam: DivyaSri\n",
      "my age is: 21\n",
      "my marks are: 100\n"
     ]
    }
   ],
   "source": [
    "class student:\n",
    "    '''This is the class of student details'''\n",
    "    def __init__(self,name,age,marks): #__init__ method calls itself\n",
    "        self.name=name\n",
    "        self.age=age\n",
    "        self.marks=marks\n",
    "    def details(self): #method\n",
    "        print(\"Hii iam:\",self.name)\n",
    "        print(\"my age is:\",self.age)\n",
    "        print(\"my marks are:\",self.marks)\n",
    "        \n",
    "d=student(\"DivyaSri\",21,100)\n",
    "d.details()\n"
   ]
  },
  {
   "cell_type": "markdown",
   "metadata": {},
   "source": [
    "# Constructor:"
   ]
  },
  {
   "cell_type": "code",
   "execution_count": null,
   "metadata": {},
   "outputs": [],
   "source": [
    "Constructors are generally used for instantiating(creation of real instance) an object.\n",
    "The task of constructors is to initialize(assign values) to the data members(variables) of the class when an object of class is created.\n",
    " __init__() method is called the constructor and is always called when an object is created.\n",
    "Constructor will be executed & created only once per one object\n",
    "No need to call constructor it calls itself\n",
    "constructor should consist atleast 1 parameter and that must be self followed by other variables"
   ]
  },
  {
   "cell_type": "code",
   "execution_count": 2,
   "metadata": {},
   "outputs": [
    {
     "name": "stdout",
     "output_type": "stream",
     "text": [
      "Constructor execution\n",
      "Method execution\n",
      "Method execution\n"
     ]
    }
   ],
   "source": [
    "#pgm to demonstarte the concept of constructor will be executed only once per object\n",
    "class Test:\n",
    "    def __init__(self):\n",
    "        print(\"Constructor execution\")\n",
    "    def m1(self): #method\n",
    "        print(\"Method execution\")\n",
    "d1=Test()\n",
    "d1.m1()\n",
    "\n",
    "        \n",
    "        "
   ]
  },
  {
   "cell_type": "code",
   "execution_count": 3,
   "metadata": {},
   "outputs": [
    {
     "name": "stdout",
     "output_type": "stream",
     "text": [
      "Constructor execution\n",
      "Method execution\n",
      "Method execution\n",
      "Method execution\n"
     ]
    }
   ],
   "source": [
    "#pgm to demonstrate per object, a method can be called any no.of times\n",
    "class Test:\n",
    "    def __init__(self):\n",
    "        print(\"Constructor execution\")\n",
    "    def m1(self): #method\n",
    "        print(\"Method execution\")\n",
    "d1=Test()\n",
    "d1.m1()\n",
    "d1.m1()\n",
    "d1.m1()"
   ]
  },
  {
   "cell_type": "code",
   "execution_count": 9,
   "metadata": {},
   "outputs": [
    {
     "ename": "TypeError",
     "evalue": "__init__() takes 0 positional arguments but 1 was given",
     "output_type": "error",
     "traceback": [
      "\u001b[1;31m---------------------------------------------------------------------------\u001b[0m",
      "\u001b[1;31mTypeError\u001b[0m                                 Traceback (most recent call last)",
      "\u001b[1;32m<ipython-input-9-b73dd051119e>\u001b[0m in \u001b[0;36m<module>\u001b[1;34m\u001b[0m\n\u001b[0;32m      4\u001b[0m     \u001b[1;32mdef\u001b[0m \u001b[0mm1\u001b[0m\u001b[1;33m(\u001b[0m\u001b[0mself\u001b[0m\u001b[1;33m)\u001b[0m\u001b[1;33m:\u001b[0m\u001b[1;33m\u001b[0m\u001b[1;33m\u001b[0m\u001b[0m\n\u001b[0;32m      5\u001b[0m         \u001b[0mprint\u001b[0m\u001b[1;33m(\u001b[0m\u001b[1;34m\"Method execution\"\u001b[0m\u001b[1;33m)\u001b[0m\u001b[1;33m\u001b[0m\u001b[1;33m\u001b[0m\u001b[0m\n\u001b[1;32m----> 6\u001b[1;33m \u001b[0md1\u001b[0m\u001b[1;33m=\u001b[0m\u001b[0mTest\u001b[0m\u001b[1;33m(\u001b[0m\u001b[1;33m)\u001b[0m\u001b[1;33m\u001b[0m\u001b[1;33m\u001b[0m\u001b[0m\n\u001b[0m\u001b[0;32m      7\u001b[0m \u001b[0md1\u001b[0m\u001b[1;33m.\u001b[0m\u001b[0mm1\u001b[0m\u001b[1;33m(\u001b[0m\u001b[1;33m)\u001b[0m\u001b[1;33m\u001b[0m\u001b[1;33m\u001b[0m\u001b[0m\n",
      "\u001b[1;31mTypeError\u001b[0m: __init__() takes 0 positional arguments but 1 was given"
     ]
    }
   ],
   "source": [
    "class Test:\n",
    "    def __init__():\n",
    "        print(\"Constructor execution\")\n",
    "    def m1(self):\n",
    "        print(\"Method execution\")\n",
    "d1=Test()\n",
    "d1.m1()"
   ]
  },
  {
   "cell_type": "code",
   "execution_count": 10,
   "metadata": {},
   "outputs": [
    {
     "name": "stdout",
     "output_type": "stream",
     "text": [
      "Constructor execution\n",
      "Constructor execution\n",
      "Method execution\n",
      "Method execution\n"
     ]
    }
   ],
   "source": [
    "class Test:\n",
    "    def __init__(self):\n",
    "        print(\"Constructor execution\")\n",
    "    def m1(self):\n",
    "        print(\"Method execution\")\n",
    "d1=Test()\n",
    "d2=Test() #another object we have created i.e,d2\n",
    "d1.m1()\n",
    "d2.m1()"
   ]
  },
  {
   "cell_type": "code",
   "execution_count": 11,
   "metadata": {},
   "outputs": [
    {
     "name": "stdout",
     "output_type": "stream",
     "text": [
      "Constructor execution\n",
      "divyasri\n",
      "Method execution\n"
     ]
    }
   ],
   "source": [
    "class Test:\n",
    "    def __init__(self):\n",
    "        print(\"Constructor execution\")\n",
    "        print(\"divyasri\")\n",
    "    def m1(self):\n",
    "        print(\"Method execution\")\n",
    "d1=Test()\n",
    "#d2=Test()\n",
    "d1.m1()\n",
    "#d2.m1()"
   ]
  },
  {
   "cell_type": "code",
   "execution_count": 16,
   "metadata": {},
   "outputs": [
    {
     "ename": "NameError",
     "evalue": "name 'd4' is not defined",
     "output_type": "error",
     "traceback": [
      "\u001b[1;31m---------------------------------------------------------------------------\u001b[0m",
      "\u001b[1;31mNameError\u001b[0m                                 Traceback (most recent call last)",
      "\u001b[1;32m<ipython-input-16-2e9b73f0e68b>\u001b[0m in \u001b[0;36m<module>\u001b[1;34m\u001b[0m\n\u001b[1;32m----> 1\u001b[1;33m \u001b[0md4\u001b[0m\u001b[1;33m.\u001b[0m\u001b[0m__init__\u001b[0m\u001b[1;33m(\u001b[0m\u001b[1;33m)\u001b[0m \u001b[1;31m#we can't call the constructor\u001b[0m\u001b[1;33m\u001b[0m\u001b[1;33m\u001b[0m\u001b[0m\n\u001b[0m",
      "\u001b[1;31mNameError\u001b[0m: name 'd4' is not defined"
     ]
    }
   ],
   "source": [
    "d4.__init__() #we can't call the constructor"
   ]
  },
  {
   "cell_type": "code",
   "execution_count": 22,
   "metadata": {},
   "outputs": [
    {
     "name": "stdout",
     "output_type": "stream",
     "text": [
      "Constructor execution\n",
      "Constructor execution\n"
     ]
    }
   ],
   "source": [
    "d3=Test() #when object is created automatically constructor is called and output gets generated & 2nd output is generated for method calling \n",
    "d3.__init__() #this statement deosn't generates output because we no need to call the constructor"
   ]
  },
  {
   "cell_type": "code",
   "execution_count": null,
   "metadata": {},
   "outputs": [],
   "source": []
  }
 ],
 "metadata": {
  "kernelspec": {
   "display_name": "Python 3",
   "language": "python",
   "name": "python3"
  },
  "language_info": {
   "codemirror_mode": {
    "name": "ipython",
    "version": 3
   },
   "file_extension": ".py",
   "mimetype": "text/x-python",
   "name": "python",
   "nbconvert_exporter": "python",
   "pygments_lexer": "ipython3",
   "version": "3.7.4"
  }
 },
 "nbformat": 4,
 "nbformat_minor": 2
}
